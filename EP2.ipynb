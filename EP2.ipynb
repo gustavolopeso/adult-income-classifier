{
 "cells": [
  {
   "cell_type": "markdown",
   "metadata": {},
   "source": [
    "# Adult-PMR3508\n",
    "\n",
    "## Gustavo Lopes Oliveira\n",
    "### 10335490 - Hash 52\n",
    "\n",
    "**Objetivo:** Criação de quatro classificadores baseados em diferentes algoritmos de treinamento supervisionado que a partir das features disponíveis no dataset **Adult** que sejam capazes de classificar se o target *income* é **<=50k** ou **>50k**. Além disso, será realizada a comparação entre os resultados obtidos para os diferentes classificadores\n",
    "\n",
    "\n",
    "## 1. Preparação dos dados\n",
    "\n",
    "Inicialmente, será feita a importação das bibliotecas necessárias:\n",
    "* **sklearn:** Biblioteca de aprendizado de máquinas open-source.\n",
    "* **numpy:** Biblioteca focada na utilização de arrays multidimensionais e matrizes, além de inúmeras funções matemáticas.\n",
    "* **pandas:** Biblioteca utilizada para manipulação e análise de dados.\n",
    "* **seaborn:** Biblioteca com ferramentas para visualização de dados.\n",
    "* **matplotlib:** Biblioteca com ferramentas para visualização de dados."
   ]
  },
  {
   "cell_type": "code",
   "execution_count": 73,
   "metadata": {},
   "outputs": [],
   "source": [
    "import sklearn\n",
    "import numpy as np\n",
    "import pandas\n",
    "import seaborn as sns\n",
    "import matplotlib as m\n",
    "import matplotlib.pyplot as plt\n",
    "from sklearn.model_selection import cross_val_score, RandomizedSearchCV\n",
    "from sklearn.preprocessing import RobustScaler\n",
    "from sklearn.metrics import accuracy_score, classification_report, confusion_matrix, ConfusionMatrixDisplay"
   ]
  },
  {
   "cell_type": "markdown",
   "metadata": {},
   "source": [
    "A partir da análise desenvolvida na primeira tarefa relativa ao dataset **Adult** e também pela observação dos outros notebooks publicados no Kaggle, opta-se por utilizar todas as variáveis numéricas e realizar o processo de one-hot encoding sobre todas as variáveis categóricas com o intuito de maximizar a acurácia dos estimadores.\n",
    "\n",
    "Remove-se a feature *education*, uma vez que esta está correlacionada com a feature *education.num*. A feature *native.country* será desconsiderada uma vez que iria acrescer a quantidade de features após o processo de one hot encoding, sendo que sua utilidade no processo de classificação depende de uma análise mais profunda.\n",
    "\n"
   ]
  },
  {
   "cell_type": "code",
   "execution_count": 35,
   "metadata": {},
   "outputs": [],
   "source": [
    "data = pandas.read_csv('data/train_data.csv')\n",
    "y_train = data['income']\n",
    "data_train = data.drop(columns = ['Id','education','native.country','income'])\n",
    "num = data_train.select_dtypes(include = ['int64','float64']).columns\n",
    "rs = RobustScaler()\n",
    "data_train[num] = rs.fit_transform(data_train[num].values)\n",
    "data_train.head()\n",
    "n_samples = len(data_train.index)"
   ]
  },
  {
   "cell_type": "code",
   "execution_count": 36,
   "metadata": {
    "scrolled": false
   },
   "outputs": [
    {
     "data": {
      "text/html": [
       "<div>\n",
       "<style scoped>\n",
       "    .dataframe tbody tr th:only-of-type {\n",
       "        vertical-align: middle;\n",
       "    }\n",
       "\n",
       "    .dataframe tbody tr th {\n",
       "        vertical-align: top;\n",
       "    }\n",
       "\n",
       "    .dataframe thead th {\n",
       "        text-align: right;\n",
       "    }\n",
       "</style>\n",
       "<table border=\"1\" class=\"dataframe\">\n",
       "  <thead>\n",
       "    <tr style=\"text-align: right;\">\n",
       "      <th></th>\n",
       "      <th>age</th>\n",
       "      <th>fnlwgt</th>\n",
       "      <th>education.num</th>\n",
       "      <th>capital.gain</th>\n",
       "      <th>capital.loss</th>\n",
       "      <th>hours.per.week</th>\n",
       "      <th>workclass_Federal-gov</th>\n",
       "      <th>workclass_Local-gov</th>\n",
       "      <th>workclass_Never-worked</th>\n",
       "      <th>workclass_Private</th>\n",
       "      <th>...</th>\n",
       "      <th>relationship_Not-in-family</th>\n",
       "      <th>relationship_Other-relative</th>\n",
       "      <th>relationship_Own-child</th>\n",
       "      <th>relationship_Unmarried</th>\n",
       "      <th>relationship_Wife</th>\n",
       "      <th>race_Asian-Pac-Islander</th>\n",
       "      <th>race_Black</th>\n",
       "      <th>race_Other</th>\n",
       "      <th>race_White</th>\n",
       "      <th>sex_Male</th>\n",
       "    </tr>\n",
       "  </thead>\n",
       "  <tbody>\n",
       "    <tr>\n",
       "      <th>0</th>\n",
       "      <td>-0.15</td>\n",
       "      <td>0.223346</td>\n",
       "      <td>0.000000</td>\n",
       "      <td>0.0</td>\n",
       "      <td>0.0</td>\n",
       "      <td>0.8</td>\n",
       "      <td>0</td>\n",
       "      <td>0</td>\n",
       "      <td>0</td>\n",
       "      <td>1</td>\n",
       "      <td>...</td>\n",
       "      <td>0</td>\n",
       "      <td>0</td>\n",
       "      <td>1</td>\n",
       "      <td>0</td>\n",
       "      <td>0</td>\n",
       "      <td>0</td>\n",
       "      <td>0</td>\n",
       "      <td>0</td>\n",
       "      <td>1</td>\n",
       "      <td>1</td>\n",
       "    </tr>\n",
       "    <tr>\n",
       "      <th>1</th>\n",
       "      <td>1.05</td>\n",
       "      <td>1.104837</td>\n",
       "      <td>-1.333333</td>\n",
       "      <td>0.0</td>\n",
       "      <td>0.0</td>\n",
       "      <td>0.0</td>\n",
       "      <td>0</td>\n",
       "      <td>1</td>\n",
       "      <td>0</td>\n",
       "      <td>0</td>\n",
       "      <td>...</td>\n",
       "      <td>0</td>\n",
       "      <td>0</td>\n",
       "      <td>0</td>\n",
       "      <td>0</td>\n",
       "      <td>0</td>\n",
       "      <td>0</td>\n",
       "      <td>0</td>\n",
       "      <td>0</td>\n",
       "      <td>1</td>\n",
       "      <td>1</td>\n",
       "    </tr>\n",
       "    <tr>\n",
       "      <th>2</th>\n",
       "      <td>-0.60</td>\n",
       "      <td>-0.270468</td>\n",
       "      <td>0.000000</td>\n",
       "      <td>0.0</td>\n",
       "      <td>0.0</td>\n",
       "      <td>0.4</td>\n",
       "      <td>0</td>\n",
       "      <td>0</td>\n",
       "      <td>0</td>\n",
       "      <td>1</td>\n",
       "      <td>...</td>\n",
       "      <td>1</td>\n",
       "      <td>0</td>\n",
       "      <td>0</td>\n",
       "      <td>0</td>\n",
       "      <td>0</td>\n",
       "      <td>0</td>\n",
       "      <td>0</td>\n",
       "      <td>0</td>\n",
       "      <td>1</td>\n",
       "      <td>1</td>\n",
       "    </tr>\n",
       "    <tr>\n",
       "      <th>3</th>\n",
       "      <td>-0.65</td>\n",
       "      <td>-0.330683</td>\n",
       "      <td>0.000000</td>\n",
       "      <td>0.0</td>\n",
       "      <td>0.0</td>\n",
       "      <td>0.0</td>\n",
       "      <td>0</td>\n",
       "      <td>0</td>\n",
       "      <td>0</td>\n",
       "      <td>1</td>\n",
       "      <td>...</td>\n",
       "      <td>1</td>\n",
       "      <td>0</td>\n",
       "      <td>0</td>\n",
       "      <td>0</td>\n",
       "      <td>0</td>\n",
       "      <td>0</td>\n",
       "      <td>0</td>\n",
       "      <td>0</td>\n",
       "      <td>1</td>\n",
       "      <td>0</td>\n",
       "    </tr>\n",
       "    <tr>\n",
       "      <th>4</th>\n",
       "      <td>1.00</td>\n",
       "      <td>0.675373</td>\n",
       "      <td>-0.333333</td>\n",
       "      <td>5178.0</td>\n",
       "      <td>0.0</td>\n",
       "      <td>4.0</td>\n",
       "      <td>0</td>\n",
       "      <td>0</td>\n",
       "      <td>0</td>\n",
       "      <td>0</td>\n",
       "      <td>...</td>\n",
       "      <td>0</td>\n",
       "      <td>0</td>\n",
       "      <td>0</td>\n",
       "      <td>0</td>\n",
       "      <td>0</td>\n",
       "      <td>0</td>\n",
       "      <td>0</td>\n",
       "      <td>0</td>\n",
       "      <td>1</td>\n",
       "      <td>1</td>\n",
       "    </tr>\n",
       "  </tbody>\n",
       "</table>\n",
       "<p>5 rows × 44 columns</p>\n",
       "</div>"
      ],
      "text/plain": [
       "    age    fnlwgt  education.num  capital.gain  capital.loss  hours.per.week  \\\n",
       "0 -0.15  0.223346       0.000000           0.0           0.0             0.8   \n",
       "1  1.05  1.104837      -1.333333           0.0           0.0             0.0   \n",
       "2 -0.60 -0.270468       0.000000           0.0           0.0             0.4   \n",
       "3 -0.65 -0.330683       0.000000           0.0           0.0             0.0   \n",
       "4  1.00  0.675373      -0.333333        5178.0           0.0             4.0   \n",
       "\n",
       "   workclass_Federal-gov  workclass_Local-gov  workclass_Never-worked  \\\n",
       "0                      0                    0                       0   \n",
       "1                      0                    1                       0   \n",
       "2                      0                    0                       0   \n",
       "3                      0                    0                       0   \n",
       "4                      0                    0                       0   \n",
       "\n",
       "   workclass_Private  ...  relationship_Not-in-family  \\\n",
       "0                  1  ...                           0   \n",
       "1                  0  ...                           0   \n",
       "2                  1  ...                           1   \n",
       "3                  1  ...                           1   \n",
       "4                  0  ...                           0   \n",
       "\n",
       "   relationship_Other-relative  relationship_Own-child  \\\n",
       "0                            0                       1   \n",
       "1                            0                       0   \n",
       "2                            0                       0   \n",
       "3                            0                       0   \n",
       "4                            0                       0   \n",
       "\n",
       "   relationship_Unmarried  relationship_Wife  race_Asian-Pac-Islander  \\\n",
       "0                       0                  0                        0   \n",
       "1                       0                  0                        0   \n",
       "2                       0                  0                        0   \n",
       "3                       0                  0                        0   \n",
       "4                       0                  0                        0   \n",
       "\n",
       "   race_Black  race_Other  race_White  sex_Male  \n",
       "0           0           0           1         1  \n",
       "1           0           0           1         1  \n",
       "2           0           0           1         1  \n",
       "3           0           0           1         0  \n",
       "4           0           0           1         1  \n",
       "\n",
       "[5 rows x 44 columns]"
      ]
     },
     "execution_count": 36,
     "metadata": {},
     "output_type": "execute_result"
    }
   ],
   "source": [
    "cat = data_train.select_dtypes(include = 'object').columns\n",
    "# OneHotEncoder\n",
    "data_train = pandas.get_dummies(data_train, prefix=cat, columns = cat, drop_first=True)\n",
    "data_train.head()"
   ]
  },
  {
   "cell_type": "markdown",
   "metadata": {},
   "source": [
    "## 2. Classificadores selecionados\n",
    "\n",
    "Para o desenvolvimento de classificadores, serão utilizados os seguintes métodos:\n",
    "* **Árvore de decisão**\n",
    "* **Floresta aleatória**\n",
    "* **Classificador de vetor suporte**\n",
    "* **Classificador de redeneural (MLP)**\n",
    "\n",
    "O método de otimização por busca randomizada e cross-validation RandomizedSearchCV será utilizado para encontrar o melhor conjunto de hiperparâmetros para os classificadores treinados."
   ]
  },
  {
   "cell_type": "markdown",
   "metadata": {},
   "source": [
    "### 2.1 Árvore de decisão\n",
    "\n",
    "O método de árvore de decisão se baseia em uma sequência de decisões baseadas em um limiar numérico de cada feature. Caso o valor apresentado pela amostra seja menor que o limiar, o processo de decisão segue por um caminho, caso seja maior, por outro. Os hiperparâmetros que serão otimizados são a profundidade máxima de ramificações a partir de um ponto inicial (*max_depth*) e a quantidade máxima de features (*max_features*) que devem ser utilizadas para o desenvolvimento do limiar de uma decisão.\n",
    "\n",
    "Ambos parâmetros estejam relacionados com a complexidade da árvore de decisões. O parâmetro *max_depth* tem grande influencia sobre a generalidade da árvore, uma vez que está relacionado com a quantidade máxima de subdivisões que serão realizadas no espaço. O parâmetro *max_features* está relacionado com a quantidade de informação utilizada para a realização de cada split na árvore de decisões, podendo, quando em conjunto com uma grande quantidade de ramificações, resultar em overfitting no dataset de treino. \n",
    "\n",
    "A grande desvantagem do algoritmo de árvore de decisão é a sua suscetibilidade à overfitting, uma vez que permite a criação de regiões de classificação muito específicas para o dataset de treinamento."
   ]
  },
  {
   "cell_type": "code",
   "execution_count": 37,
   "metadata": {
    "scrolled": false
   },
   "outputs": [
    {
     "name": "stdout",
     "output_type": "stream",
     "text": [
      "Fitting 5 folds for each of 300 candidates, totalling 1500 fits\n"
     ]
    },
    {
     "name": "stderr",
     "output_type": "stream",
     "text": [
      "[Parallel(n_jobs=-1)]: Using backend LokyBackend with 8 concurrent workers.\n",
      "[Parallel(n_jobs=-1)]: Done  16 tasks      | elapsed:    3.0s\n",
      "[Parallel(n_jobs=-1)]: Done 112 tasks      | elapsed:    8.3s\n",
      "[Parallel(n_jobs=-1)]: Done 272 tasks      | elapsed:   18.4s\n",
      "[Parallel(n_jobs=-1)]: Done 496 tasks      | elapsed:   36.3s\n",
      "[Parallel(n_jobs=-1)]: Done 784 tasks      | elapsed:   59.2s\n",
      "[Parallel(n_jobs=-1)]: Done 1136 tasks      | elapsed:  1.4min\n",
      "[Parallel(n_jobs=-1)]: Done 1500 out of 1500 | elapsed:  1.9min finished\n"
     ]
    }
   ],
   "source": [
    "from sklearn.tree import DecisionTreeClassifier\n",
    "clf_DTC = DecisionTreeClassifier()\n",
    "parameters_DTC = {\n",
    "    'max_features': np.arange(1,45), # Parâmetros que serão variados\n",
    "    'max_depth': np.arange(5,200)}\n",
    "random_search_DTC = RandomizedSearchCV(\n",
    "    verbose=3, \n",
    "    param_distributions = parameters_DTC,\n",
    "    estimator=clf_DTC,\n",
    "    n_iter = 300,\n",
    "    scoring = 'accuracy',\n",
    "    n_jobs = -1,\n",
    "    cv = 5\n",
    "                                    )\n",
    "DTC = random_search_DTC.fit(data_train, y_train) # Treinamento dos classificadores com os dados de teste\n"
   ]
  },
  {
   "cell_type": "code",
   "execution_count": 166,
   "metadata": {},
   "outputs": [
    {
     "data": {
      "text/plain": [
       "Text(377.05825000000004, 0.5, 'Accuracy')"
      ]
     },
     "execution_count": 166,
     "metadata": {},
     "output_type": "execute_result"
    },
    {
     "data": {
      "image/png": "[encoded data removed]",
      "text/plain": [
       "<Figure size 432x288 with 2 Axes>"
      ]
     },
     "metadata": {
      "needs_background": "light"
     },
     "output_type": "display_data"
    }
   ],
   "source": [
    "DF_DTC = pandas.DataFrame(random_search_DTC.cv_results_)\n",
    "fig = plt.figure()\n",
    "ax = plt.axes()\n",
    "x_DTC = DF_DTC['param_max_features']\n",
    "y_DTC = DF_DTC['param_max_depth']\n",
    "z_DTC = DF_DTC['mean_test_score']\n",
    "ax.scatter(x_DTC, y_DTC, c=z_DTC, cmap = 'plasma')\n",
    "norm = m.colors.Normalize(vmin=z_DTC.min(), vmax=z_DTC.max(), clip=False)\n",
    "mapp = m.cm.ScalarMappable(norm=norm, cmap= 'plasma')\n",
    "plt.xlabel(\"max_features\")\n",
    "plt.ylabel(\"max_depth\")\n",
    "plt.colorbar(mapp)\n",
    "cbar.ax.set_ylabel('Accuracy', rotation=-90, va=\"bottom\")"
   ]
  },
  {
   "cell_type": "code",
   "execution_count": 167,
   "metadata": {},
   "outputs": [
    {
     "name": "stdout",
     "output_type": "stream",
     "text": [
      "Parâmetros do DTC com maior acurácia {'max_features': 41, 'max_depth': 8}\n",
      "Acurácia do melhor DTC no CV: 0.8562653562653562\n",
      "Acurácia do melhor DTC na base de treino: 0.8604422604422605\n"
     ]
    }
   ],
   "source": [
    "y_DTC = random_search_DTC.predict(data_train)\n",
    "print('Parâmetros do DTC com maior acurácia',random_search_DTC.best_params_ )\n",
    "print('Acurácia do melhor DTC no CV:', random_search_DTC.best_score_ ) \n",
    "print('Acurácia do melhor DTC na base de treino:', accuracy_score(y_DTC,y_train))"
   ]
  },
  {
   "cell_type": "code",
   "execution_count": 39,
   "metadata": {
    "scrolled": true
   },
   "outputs": [
    {
     "data": {
      "text/plain": [
       "<sklearn.metrics._plot.confusion_matrix.ConfusionMatrixDisplay at 0x1a8a675e880>"
      ]
     },
     "execution_count": 39,
     "metadata": {},
     "output_type": "execute_result"
    },
    {
     "data": {
      "image/png": "[encoded data removed]",
      "text/plain": [
       "<Figure size 432x288 with 2 Axes>"
      ]
     },
     "metadata": {
      "needs_background": "light"
     },
     "output_type": "display_data"
    }
   ],
   "source": [
    "ConfusionMatrixDisplay(confusion_matrix(y_train,y_DTC),display_labels = ['< 50k','>= 50k']).plot()"
   ]
  },
  {
   "cell_type": "code",
   "execution_count": 40,
   "metadata": {
    "scrolled": true
   },
   "outputs": [
    {
     "name": "stdout",
     "output_type": "stream",
     "text": [
      "              precision    recall  f1-score   support\n",
      "\n",
      "       <=50K       0.87      0.96      0.91     24719\n",
      "        >50K       0.81      0.55      0.65      7841\n",
      "\n",
      "    accuracy                           0.86     32560\n",
      "   macro avg       0.84      0.75      0.78     32560\n",
      "weighted avg       0.86      0.86      0.85     32560\n",
      "\n"
     ]
    }
   ],
   "source": [
    "print(classification_report(y_train, y_DTC))"
   ]
  },
  {
   "cell_type": "markdown",
   "metadata": {},
   "source": [
    "### 2.2 Floresta aleatória\n",
    "\n",
    "O método de floresta aleatória se baseia na geração de árvores de decisão treinadas para fragmentos distintos do dataset e na utilização do método de bagging para a criação de um estimador melhor a partir de uma grande quantidade de estimadores de menor acurácia. Os hiperparâmetros que serão otimizados são a quantidade de árvores de decisão utilizadas (*n_estimators*) e a quatnidade máxima de ramificações a partir de um ponto inicial das árvores de decisão geradas (*max_depth*).\n",
    "\n",
    "O aumento de *n_estimators* tende a ser benéfico para a acurácia do classificador, ao custo do tempo de treinamento necessário. O parâmetro *max_depth* deve ser controlado com o intuito de garantir a acurácia e evitar o overfitting das árvores de decisão treinadas.\n",
    "\n",
    "Este algoritmo contorna à  tendência de overfitting das árvores de otimização por meio do treinamento de árvores de decisão para diferentes subconjuntos do dataset gerados aleatoriamente, assumindo como melhor estimativa para uma amostra a estimativa realizada pela maioria das árvores de decisão geradas, o que reduz a variância sem aumentar o viés do classificador."
   ]
  },
  {
   "cell_type": "code",
   "execution_count": 41,
   "metadata": {
    "scrolled": false
   },
   "outputs": [
    {
     "name": "stdout",
     "output_type": "stream",
     "text": [
      "Fitting 5 folds for each of 50 candidates, totalling 250 fits\n"
     ]
    },
    {
     "name": "stderr",
     "output_type": "stream",
     "text": [
      "[Parallel(n_jobs=-1)]: Using backend LokyBackend with 8 concurrent workers.\n",
      "[Parallel(n_jobs=-1)]: Done  16 tasks      | elapsed:   32.0s\n",
      "[Parallel(n_jobs=-1)]: Done 112 tasks      | elapsed:  5.1min\n",
      "[Parallel(n_jobs=-1)]: Done 250 out of 250 | elapsed: 10.1min finished\n"
     ]
    }
   ],
   "source": [
    "from sklearn.ensemble import RandomForestClassifier\n",
    "clf_RFC = RandomForestClassifier()\n",
    "parameters_RFC = {\n",
    "    'n_estimators': np.arange(50,300), # Parâmetros que serão variados\n",
    "    'max_depth': np.arange(5,40)}\n",
    "random_search_RFC = RandomizedSearchCV(\n",
    "    verbose=3, \n",
    "    param_distributions = parameters_RFC,\n",
    "    estimator=clf_RFC,\n",
    "    n_iter = 50,\n",
    "    scoring = 'accuracy',\n",
    "    n_jobs = -1,\n",
    "    cv = 5\n",
    "                                    )\n",
    "RFC = random_search_RFC.fit(data_train, y_train) # Treinamento dos classificadores com os dados de teste"
   ]
  },
  {
   "cell_type": "code",
   "execution_count": 165,
   "metadata": {},
   "outputs": [
    {
     "data": {
      "text/plain": [
       "Text(0, 0.5, 'Accuracy')"
      ]
     },
     "execution_count": 165,
     "metadata": {},
     "output_type": "execute_result"
    },
    {
     "data": {
      "image/png": "[encoded data removed]",
      "text/plain": [
       "<Figure size 432x288 with 2 Axes>"
      ]
     },
     "metadata": {
      "needs_background": "light"
     },
     "output_type": "display_data"
    }
   ],
   "source": [
    "DF_RFC = pandas.DataFrame(random_search_RFC.cv_results_)\n",
    "fig = plt.figure()\n",
    "ax = plt.axes()\n",
    "x_RFC = DF_RFC['param_n_estimators']\n",
    "y_RFC = DF_RFC['param_max_depth']\n",
    "z_RFC = DF_RFC['mean_test_score']\n",
    "ax.scatter(x_RFC, y_RFC, c=z_RFC, cmap = 'plasma')\n",
    "norm = m.colors.Normalize(vmin=z_RFC.min(), vmax=z_RFC.max(), clip=False)\n",
    "mapp = m.cm.ScalarMappable(norm=norm, cmap= 'plasma')\n",
    "plt.xlabel(\"n_estimators\")\n",
    "plt.ylabel(\"max_depth\")\n",
    "cbar = plt.colorbar(mapp)\n",
    "cbar.ax.set_ylabel('Accuracy', rotation=-90, va=\"bottom\")"
   ]
  },
  {
   "cell_type": "code",
   "execution_count": 132,
   "metadata": {},
   "outputs": [
    {
     "name": "stdout",
     "output_type": "stream",
     "text": [
      "Parâmetros do RFC com maior acurácia {'n_estimators': 194, 'max_depth': 21}\n",
      "Acurácia do melhor RFC no CV: 0.8647420147420147\n",
      "Acurácia do melhor RFC na base de treino: 0.9373771498771499\n"
     ]
    }
   ],
   "source": [
    "y_RFC = random_search_RFC.predict(data_train)\n",
    "print('Parâmetros do RFC com maior acurácia',random_search_RFC.best_params_ )\n",
    "print('Acurácia do melhor RFC no CV:', random_search_RFC.best_score_ ) \n",
    "print('Acurácia do melhor RFC na base de treino:', accuracy_score(y_RFC,y_train))"
   ]
  },
  {
   "cell_type": "code",
   "execution_count": 43,
   "metadata": {},
   "outputs": [
    {
     "data": {
      "text/plain": [
       "<sklearn.metrics._plot.confusion_matrix.ConfusionMatrixDisplay at 0x1a89ecf6e20>"
      ]
     },
     "execution_count": 43,
     "metadata": {},
     "output_type": "execute_result"
    },
    {
     "data": {
      "image/png": "[encoded data removed]",
      "text/plain": [
       "<Figure size 432x288 with 2 Axes>"
      ]
     },
     "metadata": {
      "needs_background": "light"
     },
     "output_type": "display_data"
    }
   ],
   "source": [
    "ConfusionMatrixDisplay(confusion_matrix(y_train, y_RFC),display_labels = ['< 50k','>= 50k']).plot()"
   ]
  },
  {
   "cell_type": "code",
   "execution_count": 44,
   "metadata": {},
   "outputs": [
    {
     "name": "stdout",
     "output_type": "stream",
     "text": [
      "              precision    recall  f1-score   support\n",
      "\n",
      "       <=50K       0.94      0.98      0.96     24719\n",
      "        >50K       0.93      0.80      0.86      7841\n",
      "\n",
      "    accuracy                           0.94     32560\n",
      "   macro avg       0.93      0.89      0.91     32560\n",
      "weighted avg       0.94      0.94      0.94     32560\n",
      "\n"
     ]
    }
   ],
   "source": [
    "print(classification_report(y_train, y_RFC))"
   ]
  },
  {
   "cell_type": "markdown",
   "metadata": {},
   "source": [
    "### 2.3 Vetor de Suporte\n",
    "\n",
    "O método de vetor suporte se baseia na busca pelo hiperplano que separa o dataset entre uma classe e outra. Como forma de fugir do caráter linear do método empregado, é possível a utilização de kernels responsáveis pelo mapeamento do dataset segundo determinadas funções. Os hiperparâmetros que serão otimizados serão o parâmetro de regularização (*C*) e o coeficiente do Kernel (*gamma*).\n",
    "\n",
    "O parâmetro *C* busca controlar a proporção entre a suavidade do hiperplano e seu fitting com os dados de treino por meio da penalização do erro de classificação. O parâmetro *gamma* atua diretamente no kernel, de forma que sua variação está relacionada com a capacidade de se formarem regiões com limites curvos e complexos."
   ]
  },
  {
   "cell_type": "code",
   "execution_count": 45,
   "metadata": {
    "scrolled": false
   },
   "outputs": [
    {
     "name": "stderr",
     "output_type": "stream",
     "text": [
      "C:\\Users\\irong\\anaconda3\\lib\\site-packages\\sklearn\\model_selection\\_search.py:278: UserWarning: The total space of parameters 12 is smaller than n_iter=30. Running 12 iterations. For exhaustive searches, use GridSearchCV.\n",
      "  warnings.warn(\n",
      "[Parallel(n_jobs=-1)]: Using backend LokyBackend with 8 concurrent workers.\n"
     ]
    },
    {
     "name": "stdout",
     "output_type": "stream",
     "text": [
      "Fitting 5 folds for each of 12 candidates, totalling 60 fits\n"
     ]
    },
    {
     "name": "stderr",
     "output_type": "stream",
     "text": [
      "[Parallel(n_jobs=-1)]: Done  16 tasks      | elapsed:  4.7min\n",
      "[Parallel(n_jobs=-1)]: Done  60 out of  60 | elapsed: 14.9min finished\n"
     ]
    }
   ],
   "source": [
    "from sklearn.svm import SVC\n",
    "clf_SVC = SVC(probability=False)\n",
    "parameters_SVC = {\n",
    "    'C': [0.01,0.1,1,2,5,10],\n",
    "    'gamma': ['auto','scale']} # Parâmetros que serão variados\n",
    "random_search_SVC = RandomizedSearchCV(\n",
    "    verbose=3, \n",
    "    param_distributions = parameters_SVC,\n",
    "    estimator=clf_SVC,\n",
    "    n_iter = 30,\n",
    "    scoring = 'accuracy',\n",
    "    n_jobs = -1,\n",
    "    cv = 5\n",
    "                                    )\n",
    "SVC = random_search_SVC.fit(data_train, y_train) # Treinamento dos classificadores com os dados de teste"
   ]
  },
  {
   "cell_type": "code",
   "execution_count": 170,
   "metadata": {},
   "outputs": [
    {
     "data": {
      "text/plain": [
       "Text(0, 0.5, 'Accuracy')"
      ]
     },
     "execution_count": 170,
     "metadata": {},
     "output_type": "execute_result"
    },
    {
     "data": {
      "image/png": "[encoded data removed]",
      "text/plain": [
       "<Figure size 432x288 with 2 Axes>"
      ]
     },
     "metadata": {
      "needs_background": "light"
     },
     "output_type": "display_data"
    }
   ],
   "source": [
    "DF_SVC = pandas.DataFrame(random_search_SVC.cv_results_)\n",
    "fig = plt.figure()\n",
    "ax = plt.axes()\n",
    "x_SVC = DF_SVC['param_C']\n",
    "y_SVC = DF_SVC['param_gamma']\n",
    "z_SVC = DF_SVC['mean_test_score']\n",
    "ax.scatter(x_SVC, y_SVC, c=z_SVC, cmap = 'plasma')\n",
    "norm = m.colors.Normalize(vmin=z_SVC.min(), vmax=z_SVC.max(), clip=False)\n",
    "mapp = m.cm.ScalarMappable(norm=norm, cmap= 'plasma')\n",
    "plt.xlabel(\"C\")\n",
    "plt.ylabel(\"gamma\")\n",
    "cbar = plt.colorbar(mapp)\n",
    "cbar.ax.set_ylabel('Accuracy', rotation=-90, va=\"bottom\")"
   ]
  },
  {
   "cell_type": "code",
   "execution_count": 171,
   "metadata": {},
   "outputs": [
    {
     "name": "stdout",
     "output_type": "stream",
     "text": [
      "Parâmetros de SVC com maior acurácia {'gamma': 'auto', 'C': 10}\n",
      "Acurácia do melhor SVC no CV: 0.8714987714987714\n",
      "Acurácia do melhor SVC na base de treino: 0.8764742014742015\n"
     ]
    }
   ],
   "source": [
    "y_SVC = random_search_SVC.predict(data_train)\n",
    "print('Parâmetros de SVC com maior acurácia',random_search_SVC.best_params_ )\n",
    "print('Acurácia do melhor SVC no CV:', random_search_SVC.best_score_ ) \n",
    "print('Acurácia do melhor SVC na base de treino:', accuracy_score(y_SVC,y_train))"
   ]
  },
  {
   "cell_type": "code",
   "execution_count": 172,
   "metadata": {},
   "outputs": [
    {
     "data": {
      "text/plain": [
       "<sklearn.metrics._plot.confusion_matrix.ConfusionMatrixDisplay at 0x1a8b8427310>"
      ]
     },
     "execution_count": 172,
     "metadata": {},
     "output_type": "execute_result"
    },
    {
     "data": {
      "image/png": "[encoded data removed]",
      "text/plain": [
       "<Figure size 432x288 with 2 Axes>"
      ]
     },
     "metadata": {
      "needs_background": "light"
     },
     "output_type": "display_data"
    }
   ],
   "source": [
    "ConfusionMatrixDisplay(confusion_matrix(y_train,y_SVC),display_labels = ['< 50k','>= 50k']).plot()"
   ]
  },
  {
   "cell_type": "code",
   "execution_count": 173,
   "metadata": {},
   "outputs": [
    {
     "name": "stdout",
     "output_type": "stream",
     "text": [
      "              precision    recall  f1-score   support\n",
      "\n",
      "       <=50K       0.89      0.95      0.92     24719\n",
      "        >50K       0.81      0.64      0.71      7841\n",
      "\n",
      "    accuracy                           0.88     32560\n",
      "   macro avg       0.85      0.79      0.82     32560\n",
      "weighted avg       0.87      0.88      0.87     32560\n",
      "\n"
     ]
    }
   ],
   "source": [
    "print(classification_report(y_train, y_SVC))"
   ]
  },
  {
   "cell_type": "markdown",
   "metadata": {},
   "source": [
    "### 2.4 Rede Neural\n",
    "\n",
    "O método de rede neural MLP (Multicamadas de perceptrons) se baseia na utilização de diversas camadas com multiplos perceptrons (modelos matemáticos do funcionamento de neurônios humanos) para classificar as amostras do dataset. Os hiperparâmetros que serão otimizados serão a quantidade de perceptrons e de camadas ocultas (*hidden_layer_sizes*), a penalização da perda tipo L2 (*alpha*) e o tipo de taxa de aprendizado (*learning_rate*).\n",
    "\n",
    "Cada elemento do parâmetro *hidden_layer_sizes* indica a quantidade de perceptrons na i-ésima camada da rede neural, de modo que a quantidade de elementos na lista denota a quantidade de parâmetros da rede neural. Ambos os parâmetros estão relacionados com a quantidade de informação e o nível de abstração das camadas, de modo que devem ser regulados como forma de atrelar acurácia e tempo de treinamento. O parâmetros *alpha* serve como parâmetro de regularização do sistema, estando relacionada com o nível de minimização dos coeficientes do modelo treinado como forma de limitar a possibilidade de overfitting.  O parâmetro *learning_rate* indica se a taxa de aprendizado deve ser constante ou adaptativa.\n"
   ]
  },
  {
   "cell_type": "code",
   "execution_count": 168,
   "metadata": {
    "scrolled": true
   },
   "outputs": [
    {
     "name": "stderr",
     "output_type": "stream",
     "text": [
      "C:\\Users\\irong\\anaconda3\\lib\\site-packages\\sklearn\\model_selection\\_search.py:278: UserWarning: The total space of parameters 48 is smaller than n_iter=100. Running 48 iterations. For exhaustive searches, use GridSearchCV.\n",
      "  warnings.warn(\n",
      "[Parallel(n_jobs=-1)]: Using backend LokyBackend with 8 concurrent workers.\n"
     ]
    },
    {
     "name": "stdout",
     "output_type": "stream",
     "text": [
      "Fitting 5 folds for each of 48 candidates, totalling 240 fits\n"
     ]
    },
    {
     "name": "stderr",
     "output_type": "stream",
     "text": [
      "[Parallel(n_jobs=-1)]: Done  16 tasks      | elapsed:   31.8s\n",
      "[Parallel(n_jobs=-1)]: Done 112 tasks      | elapsed:  3.9min\n",
      "[Parallel(n_jobs=-1)]: Done 240 out of 240 | elapsed:  8.4min finished\n"
     ]
    }
   ],
   "source": [
    "from sklearn.neural_network import MLPClassifier\n",
    "clf_MLPC = MLPClassifier()\n",
    "parameters_MLPC = {\n",
    "    'hidden_layer_sizes': [(2 ** (i), 2 ** (i+1)) for i in np.arange(2, 6)],\n",
    "    'alpha': [0.000001,0.00001,0.0001,0.001,0.01,0.1],\n",
    "    'learning_rate': ['constant','adaptive']}\n",
    "random_search_MLPC = RandomizedSearchCV(\n",
    "    verbose=3, \n",
    "    param_distributions = parameters_MLPC,\n",
    "    estimator=clf_MLPC,\n",
    "    n_iter = 30,\n",
    "    scoring = 'accuracy',\n",
    "    n_jobs = -1,\n",
    "    cv = 5\n",
    "                                    )\n",
    "MLPC = random_search_MLPC.fit(data_train, y_train) # Treinamento dos classificadores com os dados de teste"
   ]
  },
  {
   "cell_type": "code",
   "execution_count": 219,
   "metadata": {},
   "outputs": [
    {
     "data": {
      "text/plain": [
       "Text(0, 0.5, 'Accuracy')"
      ]
     },
     "execution_count": 219,
     "metadata": {},
     "output_type": "execute_result"
    },
    {
     "data": {
      "image/png": "[encoded data removed]",
      "text/plain": [
       "<Figure size 432x288 with 2 Axes>"
      ]
     },
     "metadata": {
      "needs_background": "light"
     },
     "output_type": "display_data"
    }
   ],
   "source": [
    "import math\n",
    "DF_MLPC = pandas.DataFrame(random_search_MLPC.cv_results_)\n",
    "fig = plt.figure()\n",
    "ax = plt.axes()\n",
    "x_MLPC = DF_MLPC['param_alpha']\n",
    "y_MLPC = DF_MLPC['param_hidden_layer_sizes'].values.tolist()\n",
    "z_MLPC = DF_MLPC['mean_test_score']\n",
    "p = []\n",
    "for i in range(len(z_MLPC)):\n",
    "    sample = y_MLPC[i]\n",
    "    p.append(math.log(sample[0],2))\n",
    "ax.set_yscale('log')\n",
    "ax.scatter(p, x_MLPC, c=z_MLPC, cmap = 'plasma')\n",
    "norm = m.colors.Normalize(vmin=z_MLPC.min(), vmax=z_MLPC.max(), clip=False)\n",
    "mapp = m.cm.ScalarMappable(norm=norm, cmap= 'plasma')\n",
    "plt.xlabel(\"expoente i\")\n",
    "plt.ylabel(\"alpha\")\n",
    "cbar = plt.colorbar(mapp)\n",
    "cbar.ax.set_ylabel('Accuracy', rotation=-90, va=\"bottom\")"
   ]
  },
  {
   "cell_type": "code",
   "execution_count": 179,
   "metadata": {
    "scrolled": true
   },
   "outputs": [
    {
     "name": "stdout",
     "output_type": "stream",
     "text": [
      "Parâmetros de MLPC com maior acurácia {'learning_rate': 'adaptive', 'hidden_layer_sizes': (16, 32), 'alpha': 1e-05}\n",
      "Acurácia do melhor MLPC no CV: 0.8546990171990172\n",
      "Acurácia do melhor MLPC na base de treino: 0.8519963144963145\n"
     ]
    }
   ],
   "source": [
    "y_MLPC = random_search_MLPC.predict(data_train)\n",
    "print('Parâmetros de MLPC com maior acurácia',random_search_MLPC.best_params_ )\n",
    "print('Acurácia do melhor MLPC no CV:', random_search_MLPC.best_score_ ) \n",
    "print('Acurácia do melhor MLPC na base de treino:', accuracy_score(y_MLPC,y_train))"
   ]
  },
  {
   "cell_type": "code",
   "execution_count": 180,
   "metadata": {
    "scrolled": true
   },
   "outputs": [
    {
     "data": {
      "text/plain": [
       "<sklearn.metrics._plot.confusion_matrix.ConfusionMatrixDisplay at 0x1a8b7bdb970>"
      ]
     },
     "execution_count": 180,
     "metadata": {},
     "output_type": "execute_result"
    },
    {
     "data": {
      "image/png": "[encoded data removed]",
      "text/plain": [
       "<Figure size 432x288 with 2 Axes>"
      ]
     },
     "metadata": {
      "needs_background": "light"
     },
     "output_type": "display_data"
    }
   ],
   "source": [
    "ConfusionMatrixDisplay(confusion_matrix(y_train,y_MLPC),display_labels = ['< 50k','>= 50k']).plot()"
   ]
  },
  {
   "cell_type": "code",
   "execution_count": 181,
   "metadata": {
    "scrolled": false
   },
   "outputs": [
    {
     "name": "stdout",
     "output_type": "stream",
     "text": [
      "              precision    recall  f1-score   support\n",
      "\n",
      "       <=50K       0.90      0.91      0.90     24719\n",
      "        >50K       0.70      0.67      0.69      7841\n",
      "\n",
      "    accuracy                           0.85     32560\n",
      "   macro avg       0.80      0.79      0.79     32560\n",
      "weighted avg       0.85      0.85      0.85     32560\n",
      "\n"
     ]
    }
   ],
   "source": [
    "print(classification_report(y_train, y_MLPC))"
   ]
  },
  {
   "cell_type": "code",
   "execution_count": null,
   "metadata": {},
   "outputs": [],
   "source": [
    "print(accuracy_score(clf_MLPC.predict(data_test),y_test))"
   ]
  },
  {
   "cell_type": "markdown",
   "metadata": {},
   "source": [
    "## 3. Comparação dos classificadores\n",
    "\n",
    "* O algoritmo DTC mostrou maior acurácia para situações em que o parâmetros *max_depth* era menor, com o parâmetros*max_features* relativamente elevado. Como a melhor árvore tem *max_depth* de 8, estando distante do limite de 200 estipulado, pode se afirmar que a tendência de overfitting deste classificador é pequena quando comparado à outros classificadores treinados e avaliados.\n",
    "* Como esperado, o algoritmo RFC permite o desenvolvimento de um estimador com maior acurácia (2o melhor) do que o algorítmo DTC, tendo, ainda, uma menor suscetibilidade a overfitting. No entanto, o tempo de treinamento do RFC é significativamente maior, uma vez que depende do treinamento de diversas árvores de decisão. A elevação do parâmetro *n_estimators* é interessante para o aumento da acurácia, porém seu efeito é mais pronunciado para o início do intervalo, de modo que a sua redução poderia melhorar drasticamente o tempo de execução do programa sem comprometer significantemente a acurácia do classificador. Para o parâmetro *max_depth* observa-se que a maximização da acurácia ocorre para valores entre 20 e 25.\n",
    "* O algoritmo SVC possui um tempo de treinamento muito elevado, permitindo, por meio do uso do kernel \"rbf\" (*radial basis function*) a construção do estimador de maior acurácia dentre os 4 estimadores testados. A otimização da variável *C* se mostra essencial para a obtenção de um classificador acurado. A variável *gamma* no modo *auto* traz melhores resultados do que o que foi observado para os modelos criados no modo *scale*, que leva em consideração a variância do dataset.\n",
    "* O algoritmo MLPC foi o pior colocado entre os classificadores. Talvez devido à falta de experiência do autor com a otimização de seus hiperparâmetros ou pela inadequação deste tipo de algoritmo para o dataset trabalhado, a acurácia deste algoritmo foi inferior até mesmo àquela obtida para o classificador treinado pelo método de árvore de decisão. Mesmo com a visualização do gráfico, a análise do efeito dos parâmetros sobre a acurácia do classificador é complexa."
   ]
  },
  {
   "cell_type": "markdown",
   "metadata": {},
   "source": [
    "## 4. Predição dos dados de teste\n",
    "\n",
    "O classificador que obteve a maior acurácia foi o SVC, com 87,1% no processo de cross-validation. Assim, esse classificador será utiliza para realizar a predição da variável *target* para os dados de teste."
   ]
  },
  {
   "cell_type": "code",
   "execution_count": 227,
   "metadata": {},
   "outputs": [
    {
     "data": {
      "text/html": [
       "<div>\n",
       "<style scoped>\n",
       "    .dataframe tbody tr th:only-of-type {\n",
       "        vertical-align: middle;\n",
       "    }\n",
       "\n",
       "    .dataframe tbody tr th {\n",
       "        vertical-align: top;\n",
       "    }\n",
       "\n",
       "    .dataframe thead th {\n",
       "        text-align: right;\n",
       "    }\n",
       "</style>\n",
       "<table border=\"1\" class=\"dataframe\">\n",
       "  <thead>\n",
       "    <tr style=\"text-align: right;\">\n",
       "      <th></th>\n",
       "      <th>age</th>\n",
       "      <th>fnlwgt</th>\n",
       "      <th>education.num</th>\n",
       "      <th>capital.gain</th>\n",
       "      <th>capital.loss</th>\n",
       "      <th>hours.per.week</th>\n",
       "      <th>workclass_Federal-gov</th>\n",
       "      <th>workclass_Local-gov</th>\n",
       "      <th>workclass_Never-worked</th>\n",
       "      <th>workclass_Private</th>\n",
       "      <th>...</th>\n",
       "      <th>relationship_Not-in-family</th>\n",
       "      <th>relationship_Other-relative</th>\n",
       "      <th>relationship_Own-child</th>\n",
       "      <th>relationship_Unmarried</th>\n",
       "      <th>relationship_Wife</th>\n",
       "      <th>race_Asian-Pac-Islander</th>\n",
       "      <th>race_Black</th>\n",
       "      <th>race_Other</th>\n",
       "      <th>race_White</th>\n",
       "      <th>sex_Male</th>\n",
       "    </tr>\n",
       "  </thead>\n",
       "  <tbody>\n",
       "    <tr>\n",
       "      <th>0</th>\n",
       "      <td>-0.60</td>\n",
       "      <td>-0.470408</td>\n",
       "      <td>1.000000</td>\n",
       "      <td>0.0</td>\n",
       "      <td>0.0</td>\n",
       "      <td>0.8</td>\n",
       "      <td>0</td>\n",
       "      <td>0</td>\n",
       "      <td>0</td>\n",
       "      <td>1</td>\n",
       "      <td>...</td>\n",
       "      <td>1</td>\n",
       "      <td>0</td>\n",
       "      <td>0</td>\n",
       "      <td>0</td>\n",
       "      <td>0</td>\n",
       "      <td>0</td>\n",
       "      <td>0</td>\n",
       "      <td>0</td>\n",
       "      <td>1</td>\n",
       "      <td>1</td>\n",
       "    </tr>\n",
       "    <tr>\n",
       "      <th>1</th>\n",
       "      <td>1.35</td>\n",
       "      <td>-0.207882</td>\n",
       "      <td>1.000000</td>\n",
       "      <td>0.0</td>\n",
       "      <td>0.0</td>\n",
       "      <td>1.0</td>\n",
       "      <td>0</td>\n",
       "      <td>0</td>\n",
       "      <td>0</td>\n",
       "      <td>0</td>\n",
       "      <td>...</td>\n",
       "      <td>0</td>\n",
       "      <td>0</td>\n",
       "      <td>0</td>\n",
       "      <td>0</td>\n",
       "      <td>0</td>\n",
       "      <td>0</td>\n",
       "      <td>0</td>\n",
       "      <td>0</td>\n",
       "      <td>1</td>\n",
       "      <td>1</td>\n",
       "    </tr>\n",
       "    <tr>\n",
       "      <th>2</th>\n",
       "      <td>-0.30</td>\n",
       "      <td>-0.638579</td>\n",
       "      <td>1.333333</td>\n",
       "      <td>0.0</td>\n",
       "      <td>0.0</td>\n",
       "      <td>0.0</td>\n",
       "      <td>0</td>\n",
       "      <td>0</td>\n",
       "      <td>0</td>\n",
       "      <td>1</td>\n",
       "      <td>...</td>\n",
       "      <td>1</td>\n",
       "      <td>0</td>\n",
       "      <td>0</td>\n",
       "      <td>0</td>\n",
       "      <td>0</td>\n",
       "      <td>0</td>\n",
       "      <td>0</td>\n",
       "      <td>0</td>\n",
       "      <td>1</td>\n",
       "      <td>0</td>\n",
       "    </tr>\n",
       "    <tr>\n",
       "      <th>3</th>\n",
       "      <td>0.40</td>\n",
       "      <td>0.092822</td>\n",
       "      <td>-0.333333</td>\n",
       "      <td>0.0</td>\n",
       "      <td>0.0</td>\n",
       "      <td>0.0</td>\n",
       "      <td>0</td>\n",
       "      <td>0</td>\n",
       "      <td>0</td>\n",
       "      <td>1</td>\n",
       "      <td>...</td>\n",
       "      <td>0</td>\n",
       "      <td>0</td>\n",
       "      <td>1</td>\n",
       "      <td>0</td>\n",
       "      <td>0</td>\n",
       "      <td>0</td>\n",
       "      <td>0</td>\n",
       "      <td>0</td>\n",
       "      <td>1</td>\n",
       "      <td>1</td>\n",
       "    </tr>\n",
       "    <tr>\n",
       "      <th>4</th>\n",
       "      <td>1.35</td>\n",
       "      <td>2.547277</td>\n",
       "      <td>1.000000</td>\n",
       "      <td>0.0</td>\n",
       "      <td>0.0</td>\n",
       "      <td>2.0</td>\n",
       "      <td>0</td>\n",
       "      <td>0</td>\n",
       "      <td>0</td>\n",
       "      <td>0</td>\n",
       "      <td>...</td>\n",
       "      <td>0</td>\n",
       "      <td>0</td>\n",
       "      <td>0</td>\n",
       "      <td>0</td>\n",
       "      <td>0</td>\n",
       "      <td>0</td>\n",
       "      <td>0</td>\n",
       "      <td>0</td>\n",
       "      <td>1</td>\n",
       "      <td>1</td>\n",
       "    </tr>\n",
       "  </tbody>\n",
       "</table>\n",
       "<p>5 rows × 44 columns</p>\n",
       "</div>"
      ],
      "text/plain": [
       "    age    fnlwgt  education.num  capital.gain  capital.loss  hours.per.week  \\\n",
       "0 -0.60 -0.470408       1.000000           0.0           0.0             0.8   \n",
       "1  1.35 -0.207882       1.000000           0.0           0.0             1.0   \n",
       "2 -0.30 -0.638579       1.333333           0.0           0.0             0.0   \n",
       "3  0.40  0.092822      -0.333333           0.0           0.0             0.0   \n",
       "4  1.35  2.547277       1.000000           0.0           0.0             2.0   \n",
       "\n",
       "   workclass_Federal-gov  workclass_Local-gov  workclass_Never-worked  \\\n",
       "0                      0                    0                       0   \n",
       "1                      0                    0                       0   \n",
       "2                      0                    0                       0   \n",
       "3                      0                    0                       0   \n",
       "4                      0                    0                       0   \n",
       "\n",
       "   workclass_Private  ...  relationship_Not-in-family  \\\n",
       "0                  1  ...                           1   \n",
       "1                  0  ...                           0   \n",
       "2                  1  ...                           1   \n",
       "3                  1  ...                           0   \n",
       "4                  0  ...                           0   \n",
       "\n",
       "   relationship_Other-relative  relationship_Own-child  \\\n",
       "0                            0                       0   \n",
       "1                            0                       0   \n",
       "2                            0                       0   \n",
       "3                            0                       1   \n",
       "4                            0                       0   \n",
       "\n",
       "   relationship_Unmarried  relationship_Wife  race_Asian-Pac-Islander  \\\n",
       "0                       0                  0                        0   \n",
       "1                       0                  0                        0   \n",
       "2                       0                  0                        0   \n",
       "3                       0                  0                        0   \n",
       "4                       0                  0                        0   \n",
       "\n",
       "   race_Black  race_Other  race_White  sex_Male  \n",
       "0           0           0           1         1  \n",
       "1           0           0           1         1  \n",
       "2           0           0           1         0  \n",
       "3           0           0           1         1  \n",
       "4           0           0           1         1  \n",
       "\n",
       "[5 rows x 44 columns]"
      ]
     },
     "execution_count": 227,
     "metadata": {},
     "output_type": "execute_result"
    }
   ],
   "source": [
    "data_test_raw = pandas.read_csv('data/test_data.csv')\n",
    "id_test = data_test_raw['Id']\n",
    "data_test = data_test_raw.drop(columns = ['Id','education','native.country'])\n",
    "num = data_test.select_dtypes(include = ['int64','float64']).columns\n",
    "rs = RobustScaler()\n",
    "data_test[num] = rs.fit_transform(data_test[num].values)\n",
    "cat = data_test.select_dtypes(include = 'object').columns\n",
    "data_test = pandas.get_dummies(data_test, prefix=cat, columns = cat, drop_first=True)\n",
    "data_test.head()"
   ]
  },
  {
   "cell_type": "code",
   "execution_count": 235,
   "metadata": {},
   "outputs": [],
   "source": [
    "y_predict = random_search_SVC.predict(data_test)\n",
    "data_test_raw['Id'] = id_test\n",
    "data_test_raw['income'] = y_predict\n",
    "prediction = data_test_raw[['Id','income']].to_csv(\"submission.csv\", index = False)"
   ]
  },
  {
   "cell_type": "markdown",
   "metadata": {},
   "source": [
    "Após submissão no Kaggle, obteve-se acurácia de 87,38%, pouquíssimo inferior à acurácia obtida para a base de treino, o que indica que o modelo não sofreu efeito de overfitting significativo."
   ]
  }
 ],
 "metadata": {
  "kernelspec": {
   "display_name": "Python 3",
   "language": "python",
   "name": "python3"
  },
  "language_info": {
   "codemirror_mode": {
    "name": "ipython",
    "version": 3
   },
   "file_extension": ".py",
   "mimetype": "text/x-python",
   "name": "python",
   "nbconvert_exporter": "python",
   "pygments_lexer": "ipython3",
   "version": "3.8.3"
  }
 },
 "nbformat": 4,
 "nbformat_minor": 4
}
