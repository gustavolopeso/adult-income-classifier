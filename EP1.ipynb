{
 "cells": [
  {
   "cell_type": "markdown",
   "metadata": {},
   "source": [
    "# Adult-PMR3508\n",
    "\n",
    "## Gustavo Lopes Oliveira\n",
    "### 10335490 - Hash 52\n",
    "\n",
    "## 0. Contexto\n",
    "\n",
    "Este projeto se trata de um exercício-programa desenvolvido para a disciplina PMR3508 - Aprendizado de Máquina e Reconhecimento de Padrões da Escola Politécnica da USP. Nele, o dataset **Adult** fornecido pela UCI (University of California Irvine) é utilizado para o desenvolvimento de um classificador de renda de adultos baseado nas features disponível no dataset.\n",
    "\n",
    "**Objetivo:** Criação de um classificador knn que a partir das outras features disponíveis no dataset **Adult** seja capaz de classificar se a variável *income* é **<=50k** ou **>50k**. Além disso, será feita a exploração dos dados, com o intuito de observar e visualizar quais valores as variáveis do dataset assuem e também a avaliação do impacto da seleção de variáveis, feature engineering e seleção do parâmetro K do classificador sober a acurácia do mesmo.\n",
    "\n",
    "## 1. Exploração dos dados\n",
    "\n",
    "Inicialmente, será feita a importação das bibliotecas necessárias:\n",
    "* **sklearn:** Biblioteca de aprendizado de máquinas open-source.\n",
    "* **numpy:** Biblioteca focada na utilização de arrays multidimensionais e matrizes, além de inúmeras funções matemáticas.\n",
    "* **pandas:** Biblioteca utilizada para manipulação e análise de dados.\n",
    "* **seaborn:** Biblioteca com ferramentas para visualização de dados.\n",
    "* **matplotlib:** Biblioteca com ferramentas para visualização de dados.\n",
    "\n",
    "O dataset ***Adult*** traz dados sobre adultos de diversos países, ocupações, idades, etc além de uma feature *income* que classifica a renda dos adultos.\n",
    "\n"
   ]
  },
  {
   "cell_type": "code",
   "execution_count": 1,
   "metadata": {},
   "outputs": [],
   "source": [
    "import sklearn\n",
    "import numpy as np\n",
    "import pandas\n",
    "import seaborn as sns\n",
    "import matplotlib.pyplot as plt\n",
    "from sklearn.neighbors import KNeighborsClassifier\n",
    "from sklearn.model_selection import cross_val_score\n",
    "from sklearn.preprocessing import RobustScaler\n",
    "from sklearn.model_selection import GridSearchCV"
   ]
  },
  {
   "cell_type": "markdown",
   "metadata": {},
   "source": [
    "A função *read_csv* da biblioteca *pandas* será utilizada com o intuito de transformar os dados presentes no arquivo de treinamento train_data.csv em um dataframe característico da biblioteca."
   ]
  },
  {
   "cell_type": "code",
   "execution_count": 2,
   "metadata": {
    "scrolled": true
   },
   "outputs": [],
   "source": [
    "data = pandas.read_csv('data/train_data.csv')"
   ]
  },
  {
   "cell_type": "markdown",
   "metadata": {},
   "source": [
    "A classe *head()* será utilizada para oferecer uma pré-visualização do dataset, permitindo verificar suas features."
   ]
  },
  {
   "cell_type": "code",
   "execution_count": 3,
   "metadata": {},
   "outputs": [
    {
     "data": {
      "text/html": [
       "<div>\n",
       "<style scoped>\n",
       "    .dataframe tbody tr th:only-of-type {\n",
       "        vertical-align: middle;\n",
       "    }\n",
       "\n",
       "    .dataframe tbody tr th {\n",
       "        vertical-align: top;\n",
       "    }\n",
       "\n",
       "    .dataframe thead th {\n",
       "        text-align: right;\n",
       "    }\n",
       "</style>\n",
       "<table border=\"1\" class=\"dataframe\">\n",
       "  <thead>\n",
       "    <tr style=\"text-align: right;\">\n",
       "      <th></th>\n",
       "      <th>Id</th>\n",
       "      <th>age</th>\n",
       "      <th>workclass</th>\n",
       "      <th>fnlwgt</th>\n",
       "      <th>education</th>\n",
       "      <th>education.num</th>\n",
       "      <th>marital.status</th>\n",
       "      <th>occupation</th>\n",
       "      <th>relationship</th>\n",
       "      <th>race</th>\n",
       "      <th>sex</th>\n",
       "      <th>capital.gain</th>\n",
       "      <th>capital.loss</th>\n",
       "      <th>hours.per.week</th>\n",
       "      <th>native.country</th>\n",
       "      <th>income</th>\n",
       "    </tr>\n",
       "  </thead>\n",
       "  <tbody>\n",
       "    <tr>\n",
       "      <th>0</th>\n",
       "      <td>16280</td>\n",
       "      <td>34</td>\n",
       "      <td>Private</td>\n",
       "      <td>204991</td>\n",
       "      <td>Some-college</td>\n",
       "      <td>10</td>\n",
       "      <td>Divorced</td>\n",
       "      <td>Exec-managerial</td>\n",
       "      <td>Own-child</td>\n",
       "      <td>White</td>\n",
       "      <td>Male</td>\n",
       "      <td>0</td>\n",
       "      <td>0</td>\n",
       "      <td>44</td>\n",
       "      <td>United-States</td>\n",
       "      <td>&lt;=50K</td>\n",
       "    </tr>\n",
       "    <tr>\n",
       "      <th>1</th>\n",
       "      <td>16281</td>\n",
       "      <td>58</td>\n",
       "      <td>Local-gov</td>\n",
       "      <td>310085</td>\n",
       "      <td>10th</td>\n",
       "      <td>6</td>\n",
       "      <td>Married-civ-spouse</td>\n",
       "      <td>Transport-moving</td>\n",
       "      <td>Husband</td>\n",
       "      <td>White</td>\n",
       "      <td>Male</td>\n",
       "      <td>0</td>\n",
       "      <td>0</td>\n",
       "      <td>40</td>\n",
       "      <td>United-States</td>\n",
       "      <td>&lt;=50K</td>\n",
       "    </tr>\n",
       "    <tr>\n",
       "      <th>2</th>\n",
       "      <td>16282</td>\n",
       "      <td>25</td>\n",
       "      <td>Private</td>\n",
       "      <td>146117</td>\n",
       "      <td>Some-college</td>\n",
       "      <td>10</td>\n",
       "      <td>Never-married</td>\n",
       "      <td>Machine-op-inspct</td>\n",
       "      <td>Not-in-family</td>\n",
       "      <td>White</td>\n",
       "      <td>Male</td>\n",
       "      <td>0</td>\n",
       "      <td>0</td>\n",
       "      <td>42</td>\n",
       "      <td>United-States</td>\n",
       "      <td>&lt;=50K</td>\n",
       "    </tr>\n",
       "    <tr>\n",
       "      <th>3</th>\n",
       "      <td>16283</td>\n",
       "      <td>24</td>\n",
       "      <td>Private</td>\n",
       "      <td>138938</td>\n",
       "      <td>Some-college</td>\n",
       "      <td>10</td>\n",
       "      <td>Divorced</td>\n",
       "      <td>Adm-clerical</td>\n",
       "      <td>Not-in-family</td>\n",
       "      <td>White</td>\n",
       "      <td>Female</td>\n",
       "      <td>0</td>\n",
       "      <td>0</td>\n",
       "      <td>40</td>\n",
       "      <td>United-States</td>\n",
       "      <td>&lt;=50K</td>\n",
       "    </tr>\n",
       "    <tr>\n",
       "      <th>4</th>\n",
       "      <td>16284</td>\n",
       "      <td>57</td>\n",
       "      <td>Self-emp-inc</td>\n",
       "      <td>258883</td>\n",
       "      <td>HS-grad</td>\n",
       "      <td>9</td>\n",
       "      <td>Married-civ-spouse</td>\n",
       "      <td>Transport-moving</td>\n",
       "      <td>Husband</td>\n",
       "      <td>White</td>\n",
       "      <td>Male</td>\n",
       "      <td>5178</td>\n",
       "      <td>0</td>\n",
       "      <td>60</td>\n",
       "      <td>Hungary</td>\n",
       "      <td>&gt;50K</td>\n",
       "    </tr>\n",
       "  </tbody>\n",
       "</table>\n",
       "</div>"
      ],
      "text/plain": [
       "      Id  age     workclass  fnlwgt     education  education.num  \\\n",
       "0  16280   34       Private  204991  Some-college             10   \n",
       "1  16281   58     Local-gov  310085          10th              6   \n",
       "2  16282   25       Private  146117  Some-college             10   \n",
       "3  16283   24       Private  138938  Some-college             10   \n",
       "4  16284   57  Self-emp-inc  258883       HS-grad              9   \n",
       "\n",
       "       marital.status         occupation   relationship   race     sex  \\\n",
       "0            Divorced    Exec-managerial      Own-child  White    Male   \n",
       "1  Married-civ-spouse   Transport-moving        Husband  White    Male   \n",
       "2       Never-married  Machine-op-inspct  Not-in-family  White    Male   \n",
       "3            Divorced       Adm-clerical  Not-in-family  White  Female   \n",
       "4  Married-civ-spouse   Transport-moving        Husband  White    Male   \n",
       "\n",
       "   capital.gain  capital.loss  hours.per.week native.country income  \n",
       "0             0             0              44  United-States  <=50K  \n",
       "1             0             0              40  United-States  <=50K  \n",
       "2             0             0              42  United-States  <=50K  \n",
       "3             0             0              40  United-States  <=50K  \n",
       "4          5178             0              60        Hungary   >50K  "
      ]
     },
     "execution_count": 3,
     "metadata": {},
     "output_type": "execute_result"
    }
   ],
   "source": [
    "data.head()"
   ]
  },
  {
   "cell_type": "markdown",
   "metadata": {},
   "source": [
    "A propriedade *dtypes* traz o tipo de variável de cada feature."
   ]
  },
  {
   "cell_type": "code",
   "execution_count": 4,
   "metadata": {},
   "outputs": [
    {
     "data": {
      "text/plain": [
       "Id                 int64\n",
       "age                int64\n",
       "workclass         object\n",
       "fnlwgt             int64\n",
       "education         object\n",
       "education.num      int64\n",
       "marital.status    object\n",
       "occupation        object\n",
       "relationship      object\n",
       "race              object\n",
       "sex               object\n",
       "capital.gain       int64\n",
       "capital.loss       int64\n",
       "hours.per.week     int64\n",
       "native.country    object\n",
       "income            object\n",
       "dtype: object"
      ]
     },
     "execution_count": 4,
     "metadata": {},
     "output_type": "execute_result"
    }
   ],
   "source": [
    "data.dtypes"
   ]
  },
  {
   "cell_type": "markdown",
   "metadata": {},
   "source": [
    "Se utiliza o atributo _empty_ para verificar se existe dados faltantes no dataset. O retorno de _False_ implica na inexistêncai dos mesmos."
   ]
  },
  {
   "cell_type": "code",
   "execution_count": 5,
   "metadata": {},
   "outputs": [
    {
     "data": {
      "text/plain": [
       "False"
      ]
     },
     "execution_count": 5,
     "metadata": {},
     "output_type": "execute_result"
    }
   ],
   "source": [
    "data.empty"
   ]
  },
  {
   "cell_type": "markdown",
   "metadata": {},
   "source": [
    "### 1.1 Id\n",
    "\n",
    "A feature **Id** armazena um inteiro que identifica a amostra. Pode ser que por conta da forma como a aquisição de dados foi realizada exista uma relação entre essa feature e a feature target, porém essa variável **não** será utilizada no desenvolvimento do classificador, uma vez que não traz dados sobre a amostra, apenas a identifica.\n",
    "\n",
    "### 1.2 Age\n",
    "\n",
    "A feature **age** armazena a informação sobre a idade da pessoa entrevistada. Utiliza-se a função _describe()_ para obter informações básicas sobre a variável."
   ]
  },
  {
   "cell_type": "code",
   "execution_count": 6,
   "metadata": {
    "scrolled": true
   },
   "outputs": [
    {
     "data": {
      "text/plain": [
       "count    32560.000000\n",
       "mean        38.581634\n",
       "std         13.640642\n",
       "min         17.000000\n",
       "25%         28.000000\n",
       "50%         37.000000\n",
       "75%         48.000000\n",
       "max         90.000000\n",
       "Name: age, dtype: float64"
      ]
     },
     "execution_count": 6,
     "metadata": {},
     "output_type": "execute_result"
    }
   ],
   "source": [
    "data[\"age\"].describe()"
   ]
  },
  {
   "cell_type": "markdown",
   "metadata": {},
   "source": [
    "A função _hist(bins=n)_ plota um gráfico de histograma separado em ___n___ classes."
   ]
  },
  {
   "cell_type": "code",
   "execution_count": 7,
   "metadata": {},
   "outputs": [
    {
     "data": {
      "image/png": "[encoded data removed]",
      "text/plain": [
       "<Figure size 432x288 with 1 Axes>"
      ]
     },
     "metadata": {
      "needs_background": "light"
     },
     "output_type": "display_data"
    }
   ],
   "source": [
    "a = data[\"age\"].hist(bins=30)"
   ]
  },
  {
   "cell_type": "markdown",
   "metadata": {},
   "source": [
    "### 1.3 Workclass\n",
    "\n",
    "A feature **workclass** traz informação sobre a classe de trabalho da pessoa entrevistada. A função *value_counts().plot.bar()* será utilizada com o intuito de resumir as informações encontradas nessa feature em um gráfico de barras."
   ]
  },
  {
   "cell_type": "code",
   "execution_count": 8,
   "metadata": {},
   "outputs": [
    {
     "data": {
      "image/png": "[encoded data removed]",
      "text/plain": [
       "<Figure size 432x288 with 1 Axes>"
      ]
     },
     "metadata": {
      "needs_background": "light"
     },
     "output_type": "display_data"
    }
   ],
   "source": [
    "a = data[\"workclass\"].value_counts().plot.bar()"
   ]
  },
  {
   "cell_type": "markdown",
   "metadata": {},
   "source": [
    "Além das classes cujo nome descreve do que se trata, existe a classe \"?\" que indica a ausência da informação."
   ]
  },
  {
   "cell_type": "markdown",
   "metadata": {},
   "source": [
    "### 1.4 Fnlwgt\n",
    "\n",
    "Essa variável representa a quantidade de pessoas na população que se enquadram nas características do indivíduo analisado.\n",
    "\n"
   ]
  },
  {
   "cell_type": "code",
   "execution_count": 9,
   "metadata": {},
   "outputs": [
    {
     "data": {
      "text/plain": [
       "count    3.256000e+04\n",
       "mean     1.897818e+05\n",
       "std      1.055498e+05\n",
       "min      1.228500e+04\n",
       "25%      1.178315e+05\n",
       "50%      1.783630e+05\n",
       "75%      2.370545e+05\n",
       "max      1.484705e+06\n",
       "Name: fnlwgt, dtype: float64"
      ]
     },
     "execution_count": 9,
     "metadata": {},
     "output_type": "execute_result"
    }
   ],
   "source": [
    "data[\"fnlwgt\"].describe()"
   ]
  },
  {
   "cell_type": "code",
   "execution_count": 10,
   "metadata": {},
   "outputs": [
    {
     "data": {
      "image/png": "[encoded data removed]",
      "text/plain": [
       "<Figure size 432x288 with 1 Axes>"
      ]
     },
     "metadata": {
      "needs_background": "light"
     },
     "output_type": "display_data"
    }
   ],
   "source": [
    "a = data[\"fnlwgt\"].hist(bins=60)"
   ]
  },
  {
   "cell_type": "markdown",
   "metadata": {},
   "source": [
    "### 1.5 Education\n",
    "\n",
    "Traz a informação sobre o nível de escolaridade do indíviduo entrevistado."
   ]
  },
  {
   "cell_type": "code",
   "execution_count": 11,
   "metadata": {},
   "outputs": [
    {
     "data": {
      "image/png": "[encoded data removed]",
      "text/plain": [
       "<Figure size 432x288 with 1 Axes>"
      ]
     },
     "metadata": {
      "needs_background": "light"
     },
     "output_type": "display_data"
    }
   ],
   "source": [
    "a = data[\"education\"].value_counts().plot.bar()"
   ]
  },
  {
   "cell_type": "markdown",
   "metadata": {},
   "source": [
    "### 1.6 Education-num\n",
    "\n",
    "Variável criada a partir da informação presente na variável **education**, transformando-a em um equivalente numérico, determinado pelos autores do dataset.\n"
   ]
  },
  {
   "cell_type": "markdown",
   "metadata": {},
   "source": [
    "Nesse caso, o uso da estatística descritiva e do histograma não faz muito sentido."
   ]
  },
  {
   "cell_type": "markdown",
   "metadata": {},
   "source": [
    "### 1.7 Marital Status\n",
    "\n",
    "Traz a informação do estado civil do entrevistado."
   ]
  },
  {
   "cell_type": "code",
   "execution_count": 12,
   "metadata": {},
   "outputs": [
    {
     "data": {
      "image/png": "[encoded data removed]",
      "text/plain": [
       "<Figure size 432x288 with 1 Axes>"
      ]
     },
     "metadata": {
      "needs_background": "light"
     },
     "output_type": "display_data"
    }
   ],
   "source": [
    "a = data[\"marital.status\"].value_counts().plot.bar()"
   ]
  },
  {
   "cell_type": "markdown",
   "metadata": {},
   "source": [
    "### 1.8 Occupation\n",
    "\n",
    "Traz a informação sobre a ocupação do entrevistado."
   ]
  },
  {
   "cell_type": "code",
   "execution_count": 13,
   "metadata": {},
   "outputs": [
    {
     "data": {
      "image/png": "[encoded data removed]",
      "text/plain": [
       "<Figure size 432x288 with 1 Axes>"
      ]
     },
     "metadata": {
      "needs_background": "light"
     },
     "output_type": "display_data"
    }
   ],
   "source": [
    "a = data[\"occupation\"].value_counts().plot.bar()"
   ]
  },
  {
   "cell_type": "markdown",
   "metadata": {},
   "source": [
    "### 1.9 Relationship\n",
    "\n",
    "Traz a informação sobre a posição do indivíduo em sua família."
   ]
  },
  {
   "cell_type": "code",
   "execution_count": 14,
   "metadata": {},
   "outputs": [
    {
     "data": {
      "image/png": "[encoded data removed]",
      "text/plain": [
       "<Figure size 432x288 with 1 Axes>"
      ]
     },
     "metadata": {
      "needs_background": "light"
     },
     "output_type": "display_data"
    }
   ],
   "source": [
    "a = data[\"relationship\"].value_counts().plot.bar()"
   ]
  },
  {
   "cell_type": "markdown",
   "metadata": {},
   "source": [
    "### 1.10 Race\n",
    "\n",
    "Traz a informação sobre a raça do individuo entrevistado."
   ]
  },
  {
   "cell_type": "code",
   "execution_count": 15,
   "metadata": {},
   "outputs": [
    {
     "data": {
      "image/png": "[encoded data removed]",
      "text/plain": [
       "<Figure size 432x288 with 1 Axes>"
      ]
     },
     "metadata": {
      "needs_background": "light"
     },
     "output_type": "display_data"
    }
   ],
   "source": [
    "a = data[\"race\"].value_counts().plot.bar()"
   ]
  },
  {
   "cell_type": "code",
   "execution_count": 16,
   "metadata": {},
   "outputs": [
    {
     "data": {
      "text/plain": [
       "White                 0.854269\n",
       "Black                 0.095946\n",
       "Asian-Pac-Islander    0.031910\n",
       "Amer-Indian-Eskimo    0.009552\n",
       "Other                 0.008323\n",
       "Name: race, dtype: float64"
      ]
     },
     "execution_count": 16,
     "metadata": {},
     "output_type": "execute_result"
    }
   ],
   "source": [
    "data[\"race\"].value_counts()/data[\"race\"].count() # Cálculo da proporção de cada raça"
   ]
  },
  {
   "cell_type": "markdown",
   "metadata": {},
   "source": [
    "### 1.11 Sex\n",
    "\n",
    "Traz a informação sobre o sexo do entrevistado."
   ]
  },
  {
   "cell_type": "code",
   "execution_count": 17,
   "metadata": {},
   "outputs": [
    {
     "data": {
      "image/png": "[encoded data removed]",
      "text/plain": [
       "<Figure size 432x288 with 1 Axes>"
      ]
     },
     "metadata": {
      "needs_background": "light"
     },
     "output_type": "display_data"
    }
   ],
   "source": [
    "a =  data[\"sex\"].value_counts().plot.bar()"
   ]
  },
  {
   "cell_type": "code",
   "execution_count": 18,
   "metadata": {},
   "outputs": [
    {
     "data": {
      "text/plain": [
       "Male      0.669195\n",
       "Female    0.330805\n",
       "Name: sex, dtype: float64"
      ]
     },
     "execution_count": 18,
     "metadata": {},
     "output_type": "execute_result"
    }
   ],
   "source": [
    "data[\"sex\"].value_counts()/data[\"sex\"].count() # Cálculo da proporção de cada sexo"
   ]
  },
  {
   "cell_type": "markdown",
   "metadata": {},
   "source": [
    "### 1.12 Capital gain\n",
    "\n",
    "Essa variável traz a informação sobre os ganhos provenientes de investimentos do entrevistado."
   ]
  },
  {
   "cell_type": "code",
   "execution_count": 19,
   "metadata": {},
   "outputs": [
    {
     "data": {
      "text/plain": [
       "count    32560.000000\n",
       "mean      1077.615172\n",
       "std       7385.402999\n",
       "min          0.000000\n",
       "25%          0.000000\n",
       "50%          0.000000\n",
       "75%          0.000000\n",
       "max      99999.000000\n",
       "Name: capital.gain, dtype: float64"
      ]
     },
     "execution_count": 19,
     "metadata": {},
     "output_type": "execute_result"
    }
   ],
   "source": [
    "data[\"capital.gain\"].describe()"
   ]
  },
  {
   "cell_type": "code",
   "execution_count": 20,
   "metadata": {},
   "outputs": [
    {
     "data": {
      "image/png": "[encoded data removed]",
      "text/plain": [
       "<Figure size 432x288 with 1 Axes>"
      ]
     },
     "metadata": {
      "needs_background": "light"
     },
     "output_type": "display_data"
    }
   ],
   "source": [
    "a = data[\"capital.gain\"].hist(bins=50)"
   ]
  },
  {
   "cell_type": "markdown",
   "metadata": {},
   "source": [
    "### 1.13 Capital loss\n",
    "\n",
    "Essa variável traz a informação sobre as perdas provenientes de investimentos do entrevistado."
   ]
  },
  {
   "cell_type": "code",
   "execution_count": 21,
   "metadata": {},
   "outputs": [
    {
     "data": {
      "text/plain": [
       "count    32560.000000\n",
       "mean        87.306511\n",
       "std        402.966116\n",
       "min          0.000000\n",
       "25%          0.000000\n",
       "50%          0.000000\n",
       "75%          0.000000\n",
       "max       4356.000000\n",
       "Name: capital.loss, dtype: float64"
      ]
     },
     "execution_count": 21,
     "metadata": {},
     "output_type": "execute_result"
    }
   ],
   "source": [
    "data[\"capital.loss\"].describe()"
   ]
  },
  {
   "cell_type": "code",
   "execution_count": 22,
   "metadata": {
    "scrolled": true
   },
   "outputs": [
    {
     "data": {
      "image/png": "[encoded data removed]",
      "text/plain": [
       "<Figure size 432x288 with 1 Axes>"
      ]
     },
     "metadata": {
      "needs_background": "light"
     },
     "output_type": "display_data"
    }
   ],
   "source": [
    "a = data[\"capital.loss\"].hist(bins=50)"
   ]
  },
  {
   "cell_type": "markdown",
   "metadata": {},
   "source": [
    "### 1.13 Hours per week\n",
    "\n",
    "Traz a informação sobre a quantidade de horas que o entrevistado trabalha por semana."
   ]
  },
  {
   "cell_type": "code",
   "execution_count": 23,
   "metadata": {},
   "outputs": [
    {
     "data": {
      "text/plain": [
       "count    32560.000000\n",
       "mean        40.437469\n",
       "std         12.347618\n",
       "min          1.000000\n",
       "25%         40.000000\n",
       "50%         40.000000\n",
       "75%         45.000000\n",
       "max         99.000000\n",
       "Name: hours.per.week, dtype: float64"
      ]
     },
     "execution_count": 23,
     "metadata": {},
     "output_type": "execute_result"
    }
   ],
   "source": [
    "data[\"hours.per.week\"].describe()"
   ]
  },
  {
   "cell_type": "code",
   "execution_count": 24,
   "metadata": {
    "scrolled": true
   },
   "outputs": [
    {
     "data": {
      "image/png": "[encoded data removed]",
      "text/plain": [
       "<Figure size 432x288 with 1 Axes>"
      ]
     },
     "metadata": {
      "needs_background": "light"
     },
     "output_type": "display_data"
    }
   ],
   "source": [
    "a = data[\"hours.per.week\"].hist(bins=12)"
   ]
  },
  {
   "cell_type": "markdown",
   "metadata": {},
   "source": [
    "### 1.14 Native country\n",
    "\n",
    "Traz a informação sobre o país em que o entrevistado nasceu. Utiliza-se escala logarítmica no eixo vertical para melhor visualização dos dados."
   ]
  },
  {
   "cell_type": "code",
   "execution_count": 25,
   "metadata": {},
   "outputs": [
    {
     "data": {
      "image/png": "[encoded data removed]",
      "text/plain": [
       "<Figure size 432x288 with 1 Axes>"
      ]
     },
     "metadata": {
      "needs_background": "light"
     },
     "output_type": "display_data"
    }
   ],
   "source": [
    "a = data[\"native.country\"].value_counts().plot.bar(logy=True)"
   ]
  },
  {
   "cell_type": "code",
   "execution_count": 26,
   "metadata": {},
   "outputs": [
    {
     "data": {
      "text/plain": [
       "United-States                 0.895854\n",
       "Mexico                        0.019748\n",
       "?                             0.017905\n",
       "Philippines                   0.006081\n",
       "Germany                       0.004208\n",
       "Canada                        0.003716\n",
       "Puerto-Rico                   0.003501\n",
       "El-Salvador                   0.003256\n",
       "India                         0.003071\n",
       "Cuba                          0.002918\n",
       "England                       0.002764\n",
       "Jamaica                       0.002488\n",
       "South                         0.002457\n",
       "China                         0.002303\n",
       "Italy                         0.002242\n",
       "Dominican-Republic            0.002150\n",
       "Vietnam                       0.002058\n",
       "Guatemala                     0.001966\n",
       "Japan                         0.001904\n",
       "Poland                        0.001843\n",
       "Columbia                      0.001812\n",
       "Taiwan                        0.001566\n",
       "Haiti                         0.001351\n",
       "Iran                          0.001321\n",
       "Portugal                      0.001136\n",
       "Nicaragua                     0.001044\n",
       "Peru                          0.000952\n",
       "France                        0.000891\n",
       "Greece                        0.000891\n",
       "Ecuador                       0.000860\n",
       "Ireland                       0.000737\n",
       "Hong                          0.000614\n",
       "Cambodia                      0.000584\n",
       "Trinadad&Tobago               0.000584\n",
       "Laos                          0.000553\n",
       "Thailand                      0.000553\n",
       "Yugoslavia                    0.000491\n",
       "Outlying-US(Guam-USVI-etc)    0.000430\n",
       "Hungary                       0.000399\n",
       "Honduras                      0.000399\n",
       "Scotland                      0.000369\n",
       "Holand-Netherlands            0.000031\n",
       "Name: native.country, dtype: float64"
      ]
     },
     "execution_count": 26,
     "metadata": {},
     "output_type": "execute_result"
    }
   ],
   "source": [
    "data[\"native.country\"].value_counts()/data[\"native.country\"].count()"
   ]
  },
  {
   "cell_type": "markdown",
   "metadata": {},
   "source": [
    "### 1.15 Income\n",
    "\n",
    "Essa variável traz a informação sobre a renda anual do indivíduo, classificando se ela é **maior** ou **menor ou igual** a 50 mil dólares."
   ]
  },
  {
   "cell_type": "code",
   "execution_count": 27,
   "metadata": {
    "scrolled": true
   },
   "outputs": [
    {
     "data": {
      "text/plain": [
       "<matplotlib.axes._subplots.AxesSubplot at 0x1f9baa4c2e0>"
      ]
     },
     "execution_count": 27,
     "metadata": {},
     "output_type": "execute_result"
    },
    {
     "data": {
      "image/png": "[encoded data removed]",
      "text/plain": [
       "<Figure size 432x288 with 1 Axes>"
      ]
     },
     "metadata": {
      "needs_background": "light"
     },
     "output_type": "display_data"
    }
   ],
   "source": [
    "data[\"income\"].value_counts().plot.bar()"
   ]
  },
  {
   "cell_type": "code",
   "execution_count": 28,
   "metadata": {},
   "outputs": [
    {
     "data": {
      "text/plain": [
       "<=50K    0.759183\n",
       ">50K     0.240817\n",
       "Name: income, dtype: float64"
      ]
     },
     "execution_count": 28,
     "metadata": {},
     "output_type": "execute_result"
    }
   ],
   "source": [
    "data[\"income\"].value_counts()/data[\"income\"].count()"
   ]
  },
  {
   "cell_type": "markdown",
   "metadata": {},
   "source": [
    "## 2 Avaliação do impacto das variáveis\n",
    "\n",
    "### 2.1 Análise univariada\n",
    "\n",
    "A análise univariada busca trazer informações sobre o comportamento das variáveis por si só, ou seja, sem analisar sua interação com as outras.\n",
    "\n",
    "#### 2.1.1 Variáveis numéricas\n",
    "\n",
    "* **Age:** A idade dos entrevistados apresenta uma distribuição com média de 38,6 anos e desvio padrão de 13,64 anos. \n",
    "* **Fnlwgt:**  A maior parte dos dados se encontra abaixo de 2e05.\n",
    "* **Capital gain** e **Capital loss**: A maior parte dos valores para essas duas variáveis são 0, como visto abaixo.\n"
   ]
  },
  {
   "cell_type": "code",
   "execution_count": 29,
   "metadata": {
    "scrolled": true
   },
   "outputs": [
    {
     "data": {
      "text/plain": [
       "Id                0.000000\n",
       "age               0.000000\n",
       "workclass         0.000000\n",
       "fnlwgt            0.000000\n",
       "education         0.000000\n",
       "education.num     0.000000\n",
       "marital.status    0.000000\n",
       "occupation        0.000000\n",
       "relationship      0.000000\n",
       "race              0.000000\n",
       "sex               0.000000\n",
       "capital.gain      0.916738\n",
       "capital.loss      0.953348\n",
       "hours.per.week    0.000000\n",
       "native.country    0.000000\n",
       "income            0.000000\n",
       "dtype: float64"
      ]
     },
     "execution_count": 29,
     "metadata": {},
     "output_type": "execute_result"
    }
   ],
   "source": [
    "data[data==0].count()/data.count() # Calcula a porcentagem de zeros nos dados\n"
   ]
  },
  {
   "cell_type": "markdown",
   "metadata": {},
   "source": [
    "* **Hours per week**: A maior parte dos entrevistados trabalha em jornadas próximas a 40h semanais."
   ]
  },
  {
   "cell_type": "markdown",
   "metadata": {},
   "source": [
    "#### 2.1.2 Variáveis categóricas\n",
    "\n",
    "* **Workclass**: A maior parte dos entrevistados trabalha para o setor privado.\n",
    "* **Education**: Os resultados se assemelham aos encontrados em https://educationdata.org/education-attainment-statistics, com uma maior proporção de formados no ensino médio o que pode ser um indicativo de que o dataset é bastante representativo dos EUA do ponto de vista de nivel de escolaridade.\n",
    "* **Marital Status**: A maior parte dos entrevistados é casada, seguido por aqueles não casados. Se assemelha aos dados encontrados em https://www.statista.com/statistics/242030/marital-status-of-the-us-population-by-sex/.\n",
    "* **Relationship**: Os resultados visualizados para essa variável já indicam o desbalanceamento entre pessoas do sexo masculino e feminino entrevistadas.\n",
    "* **Race**: A proporção de pessoas brancas entrevistadas é significantemente superior à proporção racial dos Estados Unidos da América, país nativo da maioria (89,6%) dos entrevistados, como é visualizado em https://www.britannica.com/place/United-States/People.\n",
    "* **Sex**: Há um desbalanceamento visível entre os dois sexos. Para uma proporção que deveria ser próxima de 50-50, de acordo com https://www.statista.com/statistics/241495/us-population-by-sex/, o dataset traz cerca de 67% de homens dentre as pessoas entrevistadas. No entanto, uma pesquisa rápida indicou que, ainda que a proporção de gêneros dentre os trabalhadores estadunidenses ainda seja relevante, ela já foi muito maior e essa pode ser a justificativa do desbalanceamento.\n",
    "* **Country**: Quase 90% dos entrevistados são nativos dos EUA, o que condiz com a fonte dos dados, que são baseados no censo estadunidense.\n",
    "* **Income**: Mais de 75% das pessoas tem uma renda anual menor que 50k dólares.\n"
   ]
  },
  {
   "cell_type": "markdown",
   "metadata": {},
   "source": [
    "### 2.2 Análise bivariada\n",
    "\n",
    "Por meio de análises bivariadas busca-se avaliar a possíveis correlações entre pares de variáveis.\n",
    "\n",
    "#### 2.2.1 Age x Income\n",
    "\n",
    "É esperado que a feature de idade possa explicar, de alguma forma, se a pessoa tem uma renda superior ou inferior a 50k ao ano. Utiliza-se a feature ___income.numeric___ para traduzir numericamente a feature ___income___. A figura abaixo traz a correlação entre as variáveis."
   ]
  },
  {
   "cell_type": "code",
   "execution_count": 30,
   "metadata": {
    "scrolled": true
   },
   "outputs": [
    {
     "data": {
      "image/png": "[encoded data removed]",
      "text/plain": [
       "<Figure size 576x288 with 2 Axes>"
      ]
     },
     "metadata": {
      "needs_background": "light"
     },
     "output_type": "display_data"
    }
   ],
   "source": [
    "data[\"income.numeric\"] = np.where(\n",
    "    data['income'] ==\">50K\", 1, 0) \n",
    "data_biv1 = data[['age','income.numeric']]\n",
    "fig, ax = plt.subplots(figsize = (8, 4))\n",
    "a = sns.heatmap(data_biv1.corr(),annot=True,cmap=\"Blues\",ax=ax)"
   ]
  },
  {
   "cell_type": "markdown",
   "metadata": {},
   "source": [
    "#### 2.2.2 Education.num x Income\n",
    "\n",
    "Por meio da feature _education.num_, que traduz numericamente o nível de escolaridade do entrevistado, é analisada a correlação entre educação e renda."
   ]
  },
  {
   "cell_type": "code",
   "execution_count": 31,
   "metadata": {
    "scrolled": true
   },
   "outputs": [
    {
     "data": {
      "image/png": "[encoded data removed]",
      "text/plain": [
       "<Figure size 576x288 with 2 Axes>"
      ]
     },
     "metadata": {
      "needs_background": "light"
     },
     "output_type": "display_data"
    }
   ],
   "source": [
    "data_biv2 = data[['education.num','income.numeric']]\n",
    "fig, ax = plt.subplots(figsize = (8, 4))\n",
    "a = sns.heatmap(data_biv2.corr(),annot=True,cmap=\"Blues\",ax=ax)"
   ]
  },
  {
   "cell_type": "markdown",
   "metadata": {},
   "source": [
    "#### 2.2.3 Sex x Income\n",
    "\n",
    "A diferença de ganhos entre os diferentes gêneros ainda é notória nos dias de hoje. Por meio da variável _is.man_ busca-se avalair a correlação entre o sexo do entrevistado e sua renda."
   ]
  },
  {
   "cell_type": "code",
   "execution_count": 32,
   "metadata": {},
   "outputs": [
    {
     "data": {
      "text/plain": [
       "<matplotlib.axes._subplots.AxesSubplot at 0x1f9ba6fecd0>"
      ]
     },
     "execution_count": 32,
     "metadata": {},
     "output_type": "execute_result"
    },
    {
     "data": {
      "image/png": "[encoded data removed]",
      "text/plain": [
       "<Figure size 576x288 with 2 Axes>"
      ]
     },
     "metadata": {
      "needs_background": "light"
     },
     "output_type": "display_data"
    }
   ],
   "source": [
    "data[\"is.man\"] = np.where(\n",
    "    data[\"sex\"] ==\"Male\", 1, 0) \n",
    "fig, ax = plt.subplots(figsize = (8, 4))\n",
    "data_biv3 = data[[\"is.man\",\"income.numeric\"]]\n",
    "sns.heatmap(data_biv3.corr(),annot=True,cmap=\"Blues\",ax=ax)"
   ]
  },
  {
   "cell_type": "markdown",
   "metadata": {},
   "source": [
    "### 2.2.4 Race x Income\n",
    "\n",
    "Busca-se avaliar o quanto o pertencimento à raçã majoritária na pesquisa (branca) pode ter correlação com a renda."
   ]
  },
  {
   "cell_type": "code",
   "execution_count": 33,
   "metadata": {},
   "outputs": [
    {
     "data": {
      "text/plain": [
       "<matplotlib.axes._subplots.AxesSubplot at 0x1f9ba8ab550>"
      ]
     },
     "execution_count": 33,
     "metadata": {},
     "output_type": "execute_result"
    },
    {
     "data": {
      "image/png": "[encoded data removed]",
      "text/plain": [
       "<Figure size 576x288 with 2 Axes>"
      ]
     },
     "metadata": {
      "needs_background": "light"
     },
     "output_type": "display_data"
    }
   ],
   "source": [
    "data[\"is.white\"] = np.where(\n",
    "    data[\"race\"] ==\"White\", 1, 0) \n",
    "fig, ax = plt.subplots(figsize = (8, 4))\n",
    "data_biv4 = data[[\"is.white\",\"income.numeric\"]]\n",
    "sns.heatmap(data_biv4.corr(),annot=True,cmap=\"Blues\",ax=ax)"
   ]
  },
  {
   "cell_type": "markdown",
   "metadata": {},
   "source": [
    "### 2.3 Análise Multivariada\n",
    "\n",
    "Nessa fase será desenvolvido um heatmap das correlações entre as variáveis numéricas e as variáveis que foram traduzidas numericamente nos passos anteriores (*income.numeric*, *is.man* e *is.american*). Para isso, cria-se o dataframe *data_num*, que cntém apenas as features numéricas, excluindo, assim, as categóricas."
   ]
  },
  {
   "cell_type": "code",
   "execution_count": 34,
   "metadata": {},
   "outputs": [
    {
     "data": {
      "text/html": [
       "<div>\n",
       "<style scoped>\n",
       "    .dataframe tbody tr th:only-of-type {\n",
       "        vertical-align: middle;\n",
       "    }\n",
       "\n",
       "    .dataframe tbody tr th {\n",
       "        vertical-align: top;\n",
       "    }\n",
       "\n",
       "    .dataframe thead th {\n",
       "        text-align: right;\n",
       "    }\n",
       "</style>\n",
       "<table border=\"1\" class=\"dataframe\">\n",
       "  <thead>\n",
       "    <tr style=\"text-align: right;\">\n",
       "      <th></th>\n",
       "      <th>age</th>\n",
       "      <th>fnlwgt</th>\n",
       "      <th>education.num</th>\n",
       "      <th>capital.gain</th>\n",
       "      <th>capital.loss</th>\n",
       "      <th>hours.per.week</th>\n",
       "      <th>income.numeric</th>\n",
       "      <th>is.man</th>\n",
       "      <th>is.white</th>\n",
       "    </tr>\n",
       "  </thead>\n",
       "  <tbody>\n",
       "    <tr>\n",
       "      <th>0</th>\n",
       "      <td>34</td>\n",
       "      <td>204991</td>\n",
       "      <td>10</td>\n",
       "      <td>0</td>\n",
       "      <td>0</td>\n",
       "      <td>44</td>\n",
       "      <td>0</td>\n",
       "      <td>1</td>\n",
       "      <td>1</td>\n",
       "    </tr>\n",
       "    <tr>\n",
       "      <th>1</th>\n",
       "      <td>58</td>\n",
       "      <td>310085</td>\n",
       "      <td>6</td>\n",
       "      <td>0</td>\n",
       "      <td>0</td>\n",
       "      <td>40</td>\n",
       "      <td>0</td>\n",
       "      <td>1</td>\n",
       "      <td>1</td>\n",
       "    </tr>\n",
       "    <tr>\n",
       "      <th>2</th>\n",
       "      <td>25</td>\n",
       "      <td>146117</td>\n",
       "      <td>10</td>\n",
       "      <td>0</td>\n",
       "      <td>0</td>\n",
       "      <td>42</td>\n",
       "      <td>0</td>\n",
       "      <td>1</td>\n",
       "      <td>1</td>\n",
       "    </tr>\n",
       "    <tr>\n",
       "      <th>3</th>\n",
       "      <td>24</td>\n",
       "      <td>138938</td>\n",
       "      <td>10</td>\n",
       "      <td>0</td>\n",
       "      <td>0</td>\n",
       "      <td>40</td>\n",
       "      <td>0</td>\n",
       "      <td>0</td>\n",
       "      <td>1</td>\n",
       "    </tr>\n",
       "    <tr>\n",
       "      <th>4</th>\n",
       "      <td>57</td>\n",
       "      <td>258883</td>\n",
       "      <td>9</td>\n",
       "      <td>5178</td>\n",
       "      <td>0</td>\n",
       "      <td>60</td>\n",
       "      <td>1</td>\n",
       "      <td>1</td>\n",
       "      <td>1</td>\n",
       "    </tr>\n",
       "  </tbody>\n",
       "</table>\n",
       "</div>"
      ],
      "text/plain": [
       "   age  fnlwgt  education.num  capital.gain  capital.loss  hours.per.week  \\\n",
       "0   34  204991             10             0             0              44   \n",
       "1   58  310085              6             0             0              40   \n",
       "2   25  146117             10             0             0              42   \n",
       "3   24  138938             10             0             0              40   \n",
       "4   57  258883              9          5178             0              60   \n",
       "\n",
       "   income.numeric  is.man  is.white  \n",
       "0               0       1         1  \n",
       "1               0       1         1  \n",
       "2               0       1         1  \n",
       "3               0       0         1  \n",
       "4               1       1         1  "
      ]
     },
     "execution_count": 34,
     "metadata": {},
     "output_type": "execute_result"
    }
   ],
   "source": [
    "data_num = data.select_dtypes(exclude=['object']).drop(['Id'],axis=1) # Remove-se a feature Id por comodidade\n",
    "\n",
    "data_num.head()"
   ]
  },
  {
   "cell_type": "code",
   "execution_count": 35,
   "metadata": {},
   "outputs": [
    {
     "data": {
      "text/plain": [
       "<matplotlib.axes._subplots.AxesSubplot at 0x1f9ba61f490>"
      ]
     },
     "execution_count": 35,
     "metadata": {},
     "output_type": "execute_result"
    },
    {
     "data": {
      "image/png": "[encoded data removed]",
      "text/plain": [
       "<Figure size 1080x576 with 2 Axes>"
      ]
     },
     "metadata": {
      "needs_background": "light"
     },
     "output_type": "display_data"
    }
   ],
   "source": [
    "fig, ax = plt.subplots(figsize = (15, 8))\n",
    "sns.heatmap(data_num.corr(),annot=True,cmap=\"Blues\", ax= ax)"
   ]
  },
  {
   "cell_type": "markdown",
   "metadata": {},
   "source": [
    "Algumas correlações com a renda que não foram visualizadas nas análises bivariadas foram visualizadas por meio do heatmap:\n",
    "\n",
    "* **hours.per.week:** Existe uma correlação significante entre as horas trabalhadas por semana e a renda.\n",
    "\n",
    "O uso da análise multivariada permite, além de uma visão mais ampla da relação entre as features e feature a ser classificada, a visualização de correlações entre as features."
   ]
  },
  {
   "cell_type": "markdown",
   "metadata": {},
   "source": [
    "## 3. Feature engineering\n",
    "\n",
    "As features que serão utilizadas para desenvolvimento do classificador são:\n",
    "\n",
    "* **Age:** Será normalizado.\n",
    "* **Education.num:** Será normalizado.\n",
    "* **Hours.per.week:** Será normalizado\n",
    "* **Is.man:** Não precisa de normalização.\n",
    "* **Workclass:** Será transformada em 3 features: _is.private, *is.public* e is.selfemp_.\n",
    "\n",
    "Seguem alguns comentários que justificam a não utilização das outras features:\n",
    "\n",
    "* **Id:** Como citado inicialmente, essa feature não traz informação sobre a amostra, apenas a identifica, portanto não deve ser utilizada no classificador.\n",
    "* **Fnlwgt:** Será desconsiderado por sua distribuição desbalanceada.\n",
    "* **Marital.status:** Será desconsiderada pela grande quantidade de classes.\n",
    "* **Occupation:** Será desconsiderada pela grande quantidade de classes.\n",
    "* **Relationship:** Será desconsiderado pela dificuldade de agrupar as classes.\n",
    "* **Race:** A análise feita na seção 2.2.4 mostrou uma correlação pequena, sendo possível desconsiderar essa feature.\n",
    "* **Native.country:** Será desconsiderado por sua distribuição desbalanceada."
   ]
  },
  {
   "cell_type": "markdown",
   "metadata": {},
   "source": [
    "## 4. Data Prep\n",
    "\n",
    "Criação das features que resumem a feature _workclass_."
   ]
  },
  {
   "cell_type": "code",
   "execution_count": 36,
   "metadata": {},
   "outputs": [],
   "source": [
    "data[\"is.private\"] = np.where(\n",
    "    data[\"workclass\"] ==\"Private\", 1, 0)\n",
    "data[\"is.public\"] = np.where(\n",
    "    (data[\"workclass\"] ==\"State-gov\") | (data[\"workclass\"] ==\"Federal-gov\") | (data[\"workclass\"] ==\"Local-gov\"), 1, 0)\n",
    "data[\"is.selfemp\"] = np.where(\n",
    "    (data[\"workclass\"] ==\"Self-emp-not-inc\") | (data[\"workclass\"] ==\"Self-emp-inc\"), 1, 0)"
   ]
  },
  {
   "cell_type": "markdown",
   "metadata": {},
   "source": [
    "Em seguida, normalizam-se as features numéricas por meio da função _RobustScaler()_."
   ]
  },
  {
   "cell_type": "code",
   "execution_count": 88,
   "metadata": {},
   "outputs": [
    {
     "name": "stdout",
     "output_type": "stream",
     "text": [
      "Index(['age', 'education.num', 'hours.per.week', 'capital.gain',\n",
      "       'capital.loss', 'is.private', 'is.public', 'is.private', 'is.man'],\n",
      "      dtype='object')\n"
     ]
    },
    {
     "name": "stderr",
     "output_type": "stream",
     "text": [
      "<ipython-input-88-73b30a02d42a>:9: SettingWithCopyWarning: \n",
      "A value is trying to be set on a copy of a slice from a DataFrame.\n",
      "Try using .loc[row_indexer,col_indexer] = value instead\n",
      "\n",
      "See the caveats in the documentation: https://pandas.pydata.org/pandas-docs/stable/user_guide/indexing.html#returning-a-view-versus-a-copy\n",
      "  data_train1[columns1] = rs.fit_transform(data_train1[columns1.values])\n",
      "C:\\Users\\irong\\anaconda3\\lib\\site-packages\\pandas\\core\\indexing.py:966: SettingWithCopyWarning: \n",
      "A value is trying to be set on a copy of a slice from a DataFrame.\n",
      "Try using .loc[row_indexer,col_indexer] = value instead\n",
      "\n",
      "See the caveats in the documentation: https://pandas.pydata.org/pandas-docs/stable/user_guide/indexing.html#returning-a-view-versus-a-copy\n",
      "  self.obj[item] = s\n",
      "<ipython-input-88-73b30a02d42a>:11: SettingWithCopyWarning: \n",
      "A value is trying to be set on a copy of a slice from a DataFrame.\n",
      "Try using .loc[row_indexer,col_indexer] = value instead\n",
      "\n",
      "See the caveats in the documentation: https://pandas.pydata.org/pandas-docs/stable/user_guide/indexing.html#returning-a-view-versus-a-copy\n",
      "  data_train2[columns2] = rs.fit_transform(data_train2[columns2.values])\n",
      "C:\\Users\\irong\\anaconda3\\lib\\site-packages\\pandas\\core\\indexing.py:966: SettingWithCopyWarning: \n",
      "A value is trying to be set on a copy of a slice from a DataFrame.\n",
      "Try using .loc[row_indexer,col_indexer] = value instead\n",
      "\n",
      "See the caveats in the documentation: https://pandas.pydata.org/pandas-docs/stable/user_guide/indexing.html#returning-a-view-versus-a-copy\n",
      "  self.obj[item] = s\n"
     ]
    },
    {
     "data": {
      "text/html": [
       "<div>\n",
       "<style scoped>\n",
       "    .dataframe tbody tr th:only-of-type {\n",
       "        vertical-align: middle;\n",
       "    }\n",
       "\n",
       "    .dataframe tbody tr th {\n",
       "        vertical-align: top;\n",
       "    }\n",
       "\n",
       "    .dataframe thead th {\n",
       "        text-align: right;\n",
       "    }\n",
       "</style>\n",
       "<table border=\"1\" class=\"dataframe\">\n",
       "  <thead>\n",
       "    <tr style=\"text-align: right;\">\n",
       "      <th></th>\n",
       "      <th>age</th>\n",
       "      <th>education.num</th>\n",
       "      <th>hours.per.week</th>\n",
       "      <th>capital.gain</th>\n",
       "      <th>capital.loss</th>\n",
       "      <th>is.man</th>\n",
       "    </tr>\n",
       "  </thead>\n",
       "  <tbody>\n",
       "    <tr>\n",
       "      <th>0</th>\n",
       "      <td>-0.15</td>\n",
       "      <td>0.000000</td>\n",
       "      <td>0.8</td>\n",
       "      <td>0.0</td>\n",
       "      <td>0.0</td>\n",
       "      <td>0.0</td>\n",
       "    </tr>\n",
       "    <tr>\n",
       "      <th>1</th>\n",
       "      <td>1.05</td>\n",
       "      <td>-1.333333</td>\n",
       "      <td>0.0</td>\n",
       "      <td>0.0</td>\n",
       "      <td>0.0</td>\n",
       "      <td>0.0</td>\n",
       "    </tr>\n",
       "    <tr>\n",
       "      <th>2</th>\n",
       "      <td>-0.60</td>\n",
       "      <td>0.000000</td>\n",
       "      <td>0.4</td>\n",
       "      <td>0.0</td>\n",
       "      <td>0.0</td>\n",
       "      <td>0.0</td>\n",
       "    </tr>\n",
       "    <tr>\n",
       "      <th>3</th>\n",
       "      <td>-0.65</td>\n",
       "      <td>0.000000</td>\n",
       "      <td>0.0</td>\n",
       "      <td>0.0</td>\n",
       "      <td>0.0</td>\n",
       "      <td>-1.0</td>\n",
       "    </tr>\n",
       "    <tr>\n",
       "      <th>4</th>\n",
       "      <td>1.00</td>\n",
       "      <td>-0.333333</td>\n",
       "      <td>4.0</td>\n",
       "      <td>5178.0</td>\n",
       "      <td>0.0</td>\n",
       "      <td>0.0</td>\n",
       "    </tr>\n",
       "  </tbody>\n",
       "</table>\n",
       "</div>"
      ],
      "text/plain": [
       "    age  education.num  hours.per.week  capital.gain  capital.loss  is.man\n",
       "0 -0.15       0.000000             0.8           0.0           0.0     0.0\n",
       "1  1.05      -1.333333             0.0           0.0           0.0     0.0\n",
       "2 -0.60       0.000000             0.4           0.0           0.0     0.0\n",
       "3 -0.65       0.000000             0.0           0.0           0.0    -1.0\n",
       "4  1.00      -0.333333             4.0        5178.0           0.0     0.0"
      ]
     },
     "execution_count": 88,
     "metadata": {},
     "output_type": "execute_result"
    }
   ],
   "source": [
    "data_train = data[['age','education.num','hours.per.week','capital.gain','capital.loss','is.private','is.public','is.private','is.man']]\n",
    "rs = RobustScaler()\n",
    "y_train = data[['income']]\n",
    "data_train1 = data_train\n",
    "data_train2 = data_train.drop(['is.private','is.public','is.private'],axis=1) # Remove-se o one hot encoding de workclass\n",
    "data_train3 = data_train2.drop(['capital.gain','capital.loss'],axis=1)\n",
    "columns1 = data_train1.columns\n",
    "print(columns1)\n",
    "data_train1[columns1] = rs.fit_transform(data_train1[columns1.values])\n",
    "columns2 = data_train2.columns                                                   \n",
    "data_train2[columns2] = rs.fit_transform(data_train2[columns2.values])\n",
    "columns3 = data_train3.columns\n",
    "data_train3[columns3] = rs.fit_transform(data_train3[columns3.values])"
   ]
  },
  {
   "cell_type": "markdown",
   "metadata": {},
   "source": [
    "Opta-se pela criação de 3 datasets para treino, com diferentes features com o intuito de verificar o quanto a adiçã ode novas features permite a criação de um classificador mais preciso."
   ]
  },
  {
   "cell_type": "markdown",
   "metadata": {},
   "source": [
    "## 5 Criação do classificador\n",
    "\n",
    "Para a criação do classificador knn será utilizada a função _KNeighborsClassifier()_. O algoritmo K Nearest Neighbors se baseia na busca pelas amostras mais próximas à amostra que se está predizendo. A classe predominante das ___k___ amostras mais próximas será indicada como a classe da amostra analisada. Desas forma, o parâmetro ___k___ deve ser setado com o intuito de garantir uma boa acurácia do classificador. Assim, se usa, além da função _KNeighborsClassifier()_ para criação do classificador, a função _GridSearchCV()_, que permite a avaliação do classificador baseado em diferentes parâmetros."
   ]
  },
  {
   "cell_type": "code",
   "execution_count": 89,
   "metadata": {},
   "outputs": [],
   "source": [
    "estimator_KNN = KNeighborsClassifier(algorithm='auto') # Criação do classificador\n",
    "parameters_KNN = {\n",
    "    'n_neighbors': [15,18,20,23,25]} # Parâmetros que serão variados\n",
    "grid_search_KNN1 = GridSearchCV( \n",
    "    estimator=estimator_KNN,\n",
    "    param_grid=parameters_KNN,\n",
    "    scoring = 'accuracy',\n",
    "    n_jobs = -1,\n",
    "    cv = 5\n",
    ")\n",
    "grid_search_KNN2 = GridSearchCV( \n",
    "    estimator=estimator_KNN,\n",
    "    param_grid=parameters_KNN,\n",
    "    scoring = 'accuracy',\n",
    "    n_jobs = -1,\n",
    "    cv = 5\n",
    ")\n",
    "grid_search_KNN3 = GridSearchCV( \n",
    "    estimator=estimator_KNN,\n",
    "    param_grid=parameters_KNN,\n",
    "    scoring = 'accuracy',\n",
    "    n_jobs = -1,\n",
    "    cv = 5\n",
    ")"
   ]
  },
  {
   "cell_type": "markdown",
   "metadata": {},
   "source": [
    "Para o primeiro dataset de treino:"
   ]
  },
  {
   "cell_type": "code",
   "execution_count": 56,
   "metadata": {
    "scrolled": false
   },
   "outputs": [
    {
     "name": "stderr",
     "output_type": "stream",
     "text": [
      "C:\\Users\\irong\\anaconda3\\lib\\site-packages\\sklearn\\model_selection\\_search.py:765: DataConversionWarning: A column-vector y was passed when a 1d array was expected. Please change the shape of y to (n_samples, ), for example using ravel().\n",
      "  self.best_estimator_.fit(X, y, **fit_params)\n"
     ]
    },
    {
     "name": "stdout",
     "output_type": "stream",
     "text": [
      "{'n_neighbors': 20}\n",
      "Best Score - KNN: 0.8449631449631451\n"
     ]
    }
   ],
   "source": [
    "KNN_1 = grid_search_KNN1.fit(data_train1, y_train) # Treinamento dos classificadores com os dados de teste\n",
    "print(grid_search_KNN1.best_params_ ) # Mostra o parâmetro k que resultou na maior acurácia\n",
    "print('Best Score - KNN:', grid_search_KNN1.best_score_ ) # Mostra a maior acurácia obtida"
   ]
  },
  {
   "cell_type": "markdown",
   "metadata": {},
   "source": [
    "Para o segundo dataset de treino:"
   ]
  },
  {
   "cell_type": "code",
   "execution_count": 90,
   "metadata": {},
   "outputs": [
    {
     "name": "stderr",
     "output_type": "stream",
     "text": [
      "C:\\Users\\irong\\anaconda3\\lib\\site-packages\\sklearn\\model_selection\\_search.py:765: DataConversionWarning: A column-vector y was passed when a 1d array was expected. Please change the shape of y to (n_samples, ), for example using ravel().\n",
      "  self.best_estimator_.fit(X, y, **fit_params)\n"
     ]
    },
    {
     "name": "stdout",
     "output_type": "stream",
     "text": [
      "{'n_neighbors': 25}\n",
      "Best Score - KNN: 0.8461916461916463\n"
     ]
    }
   ],
   "source": [
    "KNN_2 = grid_search_KNN2.fit(data_train2, y_train) # Treinamento dos classificadores com os dados de teste\n",
    "print(grid_search_KNN2.best_params_ ) # Mostra o parâmetro k que resultou na maior acurácia\n",
    "print('Best Score - KNN:', grid_search_KNN2.best_score_ ) # Mostra a maior acurácia obtida"
   ]
  },
  {
   "cell_type": "markdown",
   "metadata": {},
   "source": [
    "Para o terceiro dataset de treino:"
   ]
  },
  {
   "cell_type": "code",
   "execution_count": 61,
   "metadata": {},
   "outputs": [
    {
     "name": "stderr",
     "output_type": "stream",
     "text": [
      "C:\\Users\\irong\\anaconda3\\lib\\site-packages\\sklearn\\model_selection\\_search.py:765: DataConversionWarning: A column-vector y was passed when a 1d array was expected. Please change the shape of y to (n_samples, ), for example using ravel().\n",
      "  self.best_estimator_.fit(X, y, **fit_params)\n"
     ]
    },
    {
     "name": "stdout",
     "output_type": "stream",
     "text": [
      "{'n_neighbors': 25}\n",
      "Best Score - KNN: 0.804914004914005\n"
     ]
    }
   ],
   "source": [
    "KNN_3 = grid_search_KNN3.fit(data_train3, y_train.values) # Treinamento dos classificadores com os dados de teste\n",
    "print(grid_search_KNN3.best_params_ ) # Mostra o parâmetro k que resultou na maior acurácia\n",
    "print('Best Score - KNN:', grid_search_KNN3.best_score_ ) # Mostra a maior acurácia obtida"
   ]
  },
  {
   "cell_type": "markdown",
   "metadata": {},
   "source": [
    "Como visto, o dataset _data_train2_ foi o que obteve maior acurácia, utilizando um classificador knn com k = 20. Assim, esse classificador será utilizado para predizer os dados de teste. Para isso, precisa-se preparar o dataset de teste (*data_test*) para a realização da predição."
   ]
  },
  {
   "cell_type": "code",
   "execution_count": 76,
   "metadata": {},
   "outputs": [
    {
     "name": "stderr",
     "output_type": "stream",
     "text": [
      "<ipython-input-76-664b11be2594>:3: SettingWithCopyWarning: \n",
      "A value is trying to be set on a copy of a slice from a DataFrame.\n",
      "Try using .loc[row_indexer,col_indexer] = value instead\n",
      "\n",
      "See the caveats in the documentation: https://pandas.pydata.org/pandas-docs/stable/user_guide/indexing.html#returning-a-view-versus-a-copy\n",
      "  data_test[\"is.man\"] = np.where(\n",
      "<ipython-input-76-664b11be2594>:6: SettingWithCopyWarning: \n",
      "A value is trying to be set on a copy of a slice from a DataFrame.\n",
      "Try using .loc[row_indexer,col_indexer] = value instead\n",
      "\n",
      "See the caveats in the documentation: https://pandas.pydata.org/pandas-docs/stable/user_guide/indexing.html#returning-a-view-versus-a-copy\n",
      "  data_test[columns] = rs.fit_transform(data_test[columns.values])\n",
      "C:\\Users\\irong\\anaconda3\\lib\\site-packages\\pandas\\core\\indexing.py:966: SettingWithCopyWarning: \n",
      "A value is trying to be set on a copy of a slice from a DataFrame.\n",
      "Try using .loc[row_indexer,col_indexer] = value instead\n",
      "\n",
      "See the caveats in the documentation: https://pandas.pydata.org/pandas-docs/stable/user_guide/indexing.html#returning-a-view-versus-a-copy\n",
      "  self.obj[item] = s\n"
     ]
    }
   ],
   "source": [
    "data_t = pandas.read_csv('data/test_data.csv') # Dataset proveniente do .csv\n",
    "data_test = data_t[['Id','age','education.num','hours.per.week','capital.gain','capital.loss']] # Criação do dataser preparado.\n",
    "data_test[\"is.man\"] = np.where(\n",
    "    data_t[\"sex\"] ==\"Male\", 1, 0) \n",
    "columns = data_test.columns                                                   \n",
    "data_test[columns] = rs.fit_transform(data_test[columns.values])\n"
   ]
  },
  {
   "cell_type": "markdown",
   "metadata": {},
   "source": [
    "Com o dataset preparado, o arquivo .csv com as previsões é gerado."
   ]
  },
  {
   "cell_type": "code",
   "execution_count": 80,
   "metadata": {},
   "outputs": [
    {
     "name": "stderr",
     "output_type": "stream",
     "text": [
      "<ipython-input-80-5401278820c3>:2: DataConversionWarning: A column-vector y was passed when a 1d array was expected. Please change the shape of y to (n_samples, ), for example using ravel().\n",
      "  knn_pred.fit(data_train2,y_train)\n"
     ]
    }
   ],
   "source": [
    "knn_pred = KNeighborsClassifier(n_neighbors=20)\n",
    "knn_pred.fit(data_train2,y_train)\n",
    "data_t['income'] = knn_pred.predict(data_test.drop(columns = 'Id'))"
   ]
  },
  {
   "cell_type": "code",
   "execution_count": 91,
   "metadata": {},
   "outputs": [],
   "source": [
    "data_t.head()\n",
    "data_t[['Id', 'income']].to_csv(\"submission.csv\", index = False)"
   ]
  },
  {
   "cell_type": "markdown",
   "metadata": {},
   "source": [
    "A acurácia obtida após submissão no kaggle foi de 84,86%."
   ]
  },
  {
   "cell_type": "markdown",
   "metadata": {},
   "source": [
    "## 6 Conclusão\n",
    "\n",
    "Algumas conclusões podem ser tomadas a partir dos reultados obtidos e também pelo caminho que se levou até a obtenção deles.\n",
    "\n",
    "* A exploração das variáveis é um processo muito importante. Conhecer o que os dados trazem, os valores que eles podem assumir, ter ideias básicas sobre sua distribuição é muito importante. Para isso, funções como _describe()_, *plot.bar()*, *value_counts()* e _hist()_ são úteis para oferecer informações valiosas sobre uma grande quantidade de dados, seja em formato de texto ou por elementos gráficos.\n",
    "* A análise univariada é essencial para a detecção de outliers e desbalanceamentos no dataset.\n",
    "* A análise bivariada é importante para uma primeira análise sobre a forma como as features estão relacionadas com a feature target e até mesmo entre si (o que acabou não sendo feito nesse trabalho). A percepção de features altamente correlacionadas possibilita a utilização de uma menor quantidade de features no classificador com uma pequena alteração no seu resultado. a utilização de one hot encoding em variáveis categóricas pode trazer à tona resultados interessantes, como é o caso da variável _is.man_\n",
    "* A análise multivariada, assim como a análise bivariada, mostra informações importantes sobre a distribuição das amostras.\n",
    "* A preparação dos dados é um procedimento que deve ser feito com cuidado. Por muitas vezes o código utilizado foi alterado, modificando a maneira como a normalização era realizada no dataset, o que refletiu em uma grande melhoria na acurácia do classificador.\n",
    "* O uso de um método de otimização automatizado do classificador é muito interessante para permitir a setagem dos melhores parâmetros, que, assim como a correta escolha das feeatures, é determinante para a acurácia do classificador treinado. Verifica-se o dataset *data_train2* obteve a melhor acurácia utilizando um classificador de 20 vizinhos mais próximos. Esse resultado mostra que, em alguns casos, a utilização de one hot encoding em variáveis categóricas que não possuem grande capacidade de predizer a feature target pode ser até mesmo prejudicial ao modelo.\n",
    "\n"
   ]
  }
 ],
 "metadata": {
  "kernelspec": {
   "display_name": "Python 3",
   "language": "python",
   "name": "python3"
  },
  "language_info": {
   "codemirror_mode": {
    "name": "ipython",
    "version": 3
   },
   "file_extension": ".py",
   "mimetype": "text/x-python",
   "name": "python",
   "nbconvert_exporter": "python",
   "pygments_lexer": "ipython3",
   "version": "3.8.3"
  }
 },
 "nbformat": 4,
 "nbformat_minor": 4
}
